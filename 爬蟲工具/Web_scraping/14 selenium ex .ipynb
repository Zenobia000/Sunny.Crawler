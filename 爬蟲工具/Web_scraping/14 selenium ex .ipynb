{
 "cells": [
  {
   "cell_type": "code",
   "execution_count": 2,
   "metadata": {},
   "outputs": [],
   "source": [
    "'''\n",
    "匯入工具\n",
    "'''\n",
    "import pyautogui\n",
    "from time import sleep, time\n",
    "import keyboard, mouse\n",
    "from IPython.display import clear_output\n",
    "\n"
   ]
  },
  {
   "cell_type": "code",
   "execution_count": null,
   "metadata": {},
   "outputs": [],
   "source": [
    "'''\n",
    "取得目前滑鼠座標\n",
    "'''\n",
    "while True:\n",
    "    #自動清除此格的文字輸出\n",
    "    clear_output(wait=True)\n",
    "    \n",
    "    #取得滑鼠游標的座標，並加以輸出\n",
    "    x, y = pyautogui.position()\n",
    "    print(f\"x={x}, y={y}\")\n",
    "    \n",
    "    # 睡一下，以免吃光記憶體\n",
    "    sleep(0.1)"
   ]
  },
  {
   "cell_type": "code",
   "execution_count": 19,
   "metadata": {},
   "outputs": [
    {
     "name": "stdout",
     "output_type": "stream",
     "text": [
      "x=1729, y=651\n",
      "x=1436, y=676\n",
      "x=1597, y=580\n",
      "x=1547, y=792\n",
      "x=1057, y=805\n",
      "x=66, y=556\n",
      "x=149, y=516\n",
      "x=1427, y=181\n",
      "x=1724, y=323\n",
      "x=1044, y=526\n",
      "x=888, y=620\n",
      "x=1416, y=735\n",
      "x=1232, y=657\n",
      "x=657, y=586\n",
      "x=908, y=612\n"
     ]
    }
   ],
   "source": [
    "'''\n",
    "記錄滑鼠軌跡\n",
    "'''\n",
    "\n",
    "# 記錄軌跡用的變數\n",
    "listMove = []\n",
    "\n",
    "# 記錄軌跡\n",
    "def record():\n",
    "    # 監聽事件\n",
    "    while True:\n",
    "        if keyboard.is_pressed('ctrl'): # 按下 Ctrl 錄製軌跡，放開就不進行錄製\n",
    "            x, y = pyautogui.position()\n",
    "            listMove.append(f\"{x},{y}\")\n",
    "            print(f\"x={x}, y={y}\")\n",
    "            sleep(0.1)\n",
    "        elif keyboard.is_pressed('shift'): # 按下 alt，結束程式\n",
    "            break\n",
    "    \n",
    "    # 寫入檔案\n",
    "    with open(\"../move111111111.txt\", \"w\", encoding=\"utf-8\") as file:\n",
    "        file.write('\\n'.join(listMove) )\n",
    "           \n",
    "'''\n",
    "主程式\n",
    "'''\n",
    "if __name__ == \"__main__\":\n",
    "    record()\n",
    "\n"
   ]
  },
  {
   "cell_type": "code",
   "execution_count": 30,
   "metadata": {},
   "outputs": [],
   "source": [
    "def move():\n",
    "    with open(\"../move111111111.txt\", 'r', encoding='utf-8') as file:\n",
    "        for line in file:\n",
    "            x, y = line.strip().split(',')\n",
    "\n",
    "            pyautogui.moveTo(int(x), int(y), duration=0.1)\n",
    "\n",
    "            if keyboard.is_pressed('alt'):\n",
    "                break\n",
    "\n",
    "if __name__ == \"__main__\":\n",
    "    move()\n"
   ]
  },
  {
   "cell_type": "code",
   "execution_count": 5,
   "metadata": {},
   "outputs": [
    {
     "name": "stdout",
     "output_type": "stream",
     "text": [
      "None\n"
     ]
    },
    {
     "ename": "KeyboardInterrupt",
     "evalue": "",
     "output_type": "error",
     "traceback": [
      "\u001b[1;31m---------------------------------------------------------------------------\u001b[0m",
      "\u001b[1;31mKeyboardInterrupt\u001b[0m                         Traceback (most recent call last)",
      "Cell \u001b[1;32mIn [5], line 3\u001b[0m\n\u001b[0;32m      1\u001b[0m \u001b[39mwhile\u001b[39;00m \u001b[39mTrue\u001b[39;00m:\n\u001b[0;32m      2\u001b[0m     \u001b[39m# 睡一下\u001b[39;00m\n\u001b[1;32m----> 3\u001b[0m     sleep(\u001b[39m0.1\u001b[39;49m)\n\u001b[0;32m      5\u001b[0m     \u001b[39m#自動清除此格的文字輸出\u001b[39;00m\n\u001b[0;32m      6\u001b[0m     clear_output(wait\u001b[39m=\u001b[39m\u001b[39mTrue\u001b[39;00m)\n",
      "\u001b[1;31mKeyboardInterrupt\u001b[0m: "
     ]
    }
   ],
   "source": [
    "while True:\n",
    "    # 睡一下\n",
    "    sleep(0.1)\n",
    "    \n",
    "    #自動清除此格的文字輸出\n",
    "    clear_output(wait=True)\n",
    "    \n",
    "    # 取得 Box 物件\n",
    "    btn_4_location = pyautogui.locateOnScreen('images/4.png', confidence=0.9)\n",
    "    \n",
    "    # 輸出\n",
    "    print(btn_4_location)"
   ]
  },
  {
   "cell_type": "code",
   "execution_count": 6,
   "metadata": {},
   "outputs": [],
   "source": [
    "pyautogui.PAUSE = 0.5\n",
    "\n",
    "btm_4 = pyautogui.locateOnScreen('images/4.png', confidence=0.9)\n",
    "btm_1 = pyautogui.locateOnScreen('images/1.png', confidence=0.9)\n",
    "btm_2 = pyautogui.locateOnScreen('images/2.png', confidence=0.9)\n",
    "btm_3 = pyautogui.locateOnScreen('images/3.png', confidence=0.9)\n",
    "\n",
    "btm_1_p = pyautogui.center(btm_1)\n",
    "btm_2_p = pyautogui.center(btm_2)\n",
    "btm_3_p = pyautogui.center(btm_3)\n",
    "btm_4_p = pyautogui.center(btm_4)\n",
    "\n",
    "pyautogui.click(btm_1_p.x, btm_1_p.y)\n",
    "pyautogui.click(btm_2_p.x, btm_2_p.y)\n",
    "pyautogui.click(btm_3_p.x, btm_3_p.y)\n",
    "pyautogui.click(btm_4_p.x, btm_4_p.y)\n",
    "\n",
    "\n",
    "\n",
    "\n"
   ]
  },
  {
   "cell_type": "code",
   "execution_count": 18,
   "metadata": {},
   "outputs": [],
   "source": [
    "pyautogui.PAUSE = 0.05\n",
    "\n",
    "linePoint_1 = [344, 815]\n",
    "\n",
    "linePoint_2 = [409, 815]\n",
    "\n",
    "linePoint_3 = [479, 815]\n",
    "\n",
    "linePoint_4 = [538, 815]\n",
    "\n",
    "coord_1 = pyautogui.pixel(linePoint_1[0], linePoint_1[1])\n",
    "coord_2 = pyautogui.pixel(linePoint_2[0], linePoint_2[1])\n",
    "coord_3 = pyautogui.pixel(linePoint_3[0], linePoint_3[1])\n",
    "coord_4 = pyautogui.pixel(linePoint_4[0], linePoint_4[1]) \n",
    "\n",
    "def click():\n",
    "\n",
    "        if coord_1[0] != 0 and coord_1[1] != 0:\n",
    "            print(linePoint_1)\n",
    "            pyautogui.press('d')\n",
    "        if coord_2[0] != 0 and coord_2[1] != 0:\n",
    "            print(linePoint_2)\n",
    "            pyautogui.press('f')\n",
    "        if coord_3[0] != 0 and coord_3[1] != 0:\n",
    "            print(linePoint_3)\n",
    "            pyautogui.press('j')\n",
    "        if coord_4[0] != 0 and coord_4[1] != 0:\n",
    "            print(linePoint_4)\n",
    "            pyautogui.press('k')\n",
    "\n",
    "if __name__ == \"__main__\":\n",
    "    while True:\n",
    "        if keyboard.is_pressed('ctrl'):\n",
    "            click()\n",
    "        elif keyboard.is_pressed('alt'):\n",
    "            break"
   ]
  }
 ],
 "metadata": {
  "kernelspec": {
   "display_name": "Python 3.10.7 64-bit",
   "language": "python",
   "name": "python3"
  },
  "language_info": {
   "codemirror_mode": {
    "name": "ipython",
    "version": 3
   },
   "file_extension": ".py",
   "mimetype": "text/x-python",
   "name": "python",
   "nbconvert_exporter": "python",
   "pygments_lexer": "ipython3",
   "version": "3.10.7"
  },
  "orig_nbformat": 4,
  "vscode": {
   "interpreter": {
    "hash": "26de051ba29f2982a8de78e945f0abaf191376122a1563185a90213a26c5da77"
   }
  }
 },
 "nbformat": 4,
 "nbformat_minor": 2
}
