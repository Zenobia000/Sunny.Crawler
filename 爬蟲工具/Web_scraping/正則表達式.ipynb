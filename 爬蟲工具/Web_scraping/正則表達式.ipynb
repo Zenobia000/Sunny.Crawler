{
 "cells": [
  {
   "cell_type": "code",
   "execution_count": 2,
   "metadata": {},
   "outputs": [],
   "source": [
    "import re\n",
    "from pprint import pprint"
   ]
  },
  {
   "cell_type": "code",
   "execution_count": 10,
   "metadata": {},
   "outputs": [
    {
     "name": "stdout",
     "output_type": "stream",
     "text": [
      "<re.Match object; span=(0, 10), match='A123456789'>\n",
      "'A123456789'\n",
      "'A'\n",
      "'1'\n",
      "'A123456789'\n",
      "'A'\n",
      "'1'\n"
     ]
    }
   ],
   "source": [
    "regex01 = r'([a-zA-Z])([12])\\d{8}'\n",
    "string01 = 'A123456789, S299888777'\n",
    "match01 = re.search(regex01, string01)\n",
    "\n",
    "pprint(match01)\n",
    "pprint(match01[0])\n",
    "pprint(match01[1])\n",
    "pprint(match01[2])\n",
    "\n",
    "\n",
    "pprint(match01.group(0))\n",
    "pprint(match01.group(1))\n",
    "pprint(match01.group(2))\n",
    "\n"
   ]
  },
  {
   "cell_type": "code",
   "execution_count": 6,
   "metadata": {},
   "outputs": [
    {
     "name": "stdout",
     "output_type": "stream",
     "text": [
      "<re.Match object; span=(3, 15), match='A12432445325'>\n",
      "'A12432445325'\n",
      "'12432445325'\n"
     ]
    }
   ],
   "source": [
    "\n",
    "regex2 = r'[A-Z](\\d*)'\n",
    "string2 = \"123A12432445325\"\n",
    "match02 = re.search(regex2, string2)\n",
    "\n",
    "pprint(match02)\n",
    "pprint(match02[0])\n",
    "pprint(match02[1])\n",
    "\n"
   ]
  },
  {
   "cell_type": "code",
   "execution_count": 38,
   "metadata": {},
   "outputs": [
    {
     "name": "stdout",
     "output_type": "stream",
     "text": [
      "['09123234', '0921351', '09143654316']\n",
      "'09123234'\n",
      "'0921351'\n",
      "'09143654316'\n"
     ]
    }
   ],
   "source": [
    "regex02 = r'[0-9]+'\n",
    "string02 = \"09123234, 0921351, 09143654316\"\n",
    "listMatch02 = re.findall(regex02, string02)\n",
    "\n",
    "pprint(listMatch02)\n",
    "pprint(listMatch02[0])\n",
    "pprint(listMatch02[1])\n",
    "pprint(listMatch02[2])\n",
    "\n",
    "\n"
   ]
  },
  {
   "cell_type": "code",
   "execution_count": 32,
   "metadata": {},
   "outputs": [
    {
     "name": "stdout",
     "output_type": "stream",
     "text": [
      "'93254325'\n",
      "'913451346'\n",
      "'9321543152'\n",
      "<callable_iterator object at 0x000001B319B983D0>\n"
     ]
    }
   ],
   "source": [
    "regex03 = r'[09]([0-9]+)'\n",
    "string03 = '093254325, 0913451346, 09321543152'\n",
    "iterableMatch03 = re.finditer(regex03, string03)\n",
    "\n",
    "if iterableMatch03 != None:\n",
    "    for match in iterableMatch03:\n",
    "        pprint(match[1])\n",
    "\n",
    "pprint(iterableMatch03)\n"
   ]
  },
  {
   "cell_type": "code",
   "execution_count": 36,
   "metadata": {},
   "outputs": [
    {
     "name": "stdout",
     "output_type": "stream",
     "text": [
      "'2022/06/30'\n",
      "<re.Match object; span=(0, 10), match='2022/06/30'>\n"
     ]
    }
   ],
   "source": [
    "regex4 = r'2[0-9]{3}\\/([0-1]?[0-9])\\/([0-3]?[0-9])'\n",
    "string4 = \"2022/06/30\"\n",
    "match04 = re.match(regex4, string4)\n",
    "\n",
    "# pprint(match04)\n",
    "pprint(match04[0])\n",
    "pprint(match04)\n",
    "\n",
    "# for i in match04:\n",
    "#     pprint(i[0])\n",
    "\n",
    "\n"
   ]
  },
  {
   "cell_type": "code",
   "execution_count": 43,
   "metadata": {},
   "outputs": [
    {
     "name": "stdout",
     "output_type": "stream",
     "text": [
      "['', '', '', '1', '', '', '2', '', '', '', '', '3', '', '', '', '4']\n",
      "['1', '2', '3', '4']\n"
     ]
    }
   ],
   "source": [
    "regex06 = r'\\D'\n",
    "string06 = \"One1Two2Three3Four4\"\n",
    "listMatch06 = re.split(regex06, string06)\n",
    "\n",
    "pprint(listMatch06)\n",
    "\n",
    "list = []\n",
    "for i in range(len(listMatch06)):\n",
    "    if listMatch06[i] != '':\n",
    "        list.append(listMatch06[i])\n",
    "\n",
    "pprint(list)"
   ]
  },
  {
   "cell_type": "code",
   "execution_count": 44,
   "metadata": {},
   "outputs": [
    {
     "name": "stdout",
     "output_type": "stream",
     "text": [
      "'5##20####1314'\n"
     ]
    }
   ],
   "source": [
    "# sub\n",
    "\n",
    "\n",
    "regex07 = r'\\D'\n",
    "string07 = '5-20 #1314'\n",
    "strresult = re.sub(regex07, '##',string07)\n",
    "\n",
    "pprint(strresult)\n"
   ]
  },
  {
   "cell_type": "code",
   "execution_count": 45,
   "metadata": {},
   "outputs": [
    {
     "name": "stdout",
     "output_type": "stream",
     "text": [
      "'一天一蘋果醫生遠離我。An apple a day keeps the doctor away.'\n"
     ]
    }
   ],
   "source": [
    "regex08 = r'\\s(?![a-zA-Z])'\n",
    "string08 = \"一 天 一 蘋 果 醫 生 遠 離 我。An apple a day keeps the doctor away.\"\n",
    "strresult = re.sub(regex08, \"\", string08)\n",
    "\n",
    "pprint(strresult)\n"
   ]
  },
  {
   "cell_type": "code",
   "execution_count": 51,
   "metadata": {},
   "outputs": [
    {
     "name": "stdout",
     "output_type": "stream",
     "text": [
      "'1,234,567,890'\n"
     ]
    }
   ],
   "source": [
    "regex09 = r'(?<=\\d)(?=(\\d{3})+\\b)'\n",
    "string09 = '1234567890'\n",
    "strresult = re.sub(regex09, \",\", string09)\n",
    "\n",
    "pprint(strresult)"
   ]
  },
  {
   "cell_type": "code",
   "execution_count": 58,
   "metadata": {},
   "outputs": [
    {
     "name": "stdout",
     "output_type": "stream",
     "text": [
      "'A100000001'\n",
      "'A100000001'\n",
      "'A100000001'\n",
      "'1'\n",
      "'1'\n",
      "'1'\n"
     ]
    }
   ],
   "source": [
    "regex08 = r'[A-Z](?P<gender>[12])\\d{8}'\n",
    "string08 = 'A100000001'\n",
    "match08 = re.match(regex08, string08)\n",
    "\n",
    "\n",
    "pprint(match08[0])\n",
    "pprint(match08.group(0))\n",
    "pprint(match08.group())\n",
    "\n",
    "\n",
    "pprint(match08.group('gender'))\n",
    "pprint(match08['gender'])\n",
    "pprint(match08[1])\n",
    "\n"
   ]
  }
 ],
 "metadata": {
  "kernelspec": {
   "display_name": "Python 3.10.7 64-bit",
   "language": "python",
   "name": "python3"
  },
  "language_info": {
   "codemirror_mode": {
    "name": "ipython",
    "version": 3
   },
   "file_extension": ".py",
   "mimetype": "text/x-python",
   "name": "python",
   "nbconvert_exporter": "python",
   "pygments_lexer": "ipython3",
   "version": "3.10.7"
  },
  "orig_nbformat": 4,
  "vscode": {
   "interpreter": {
    "hash": "26de051ba29f2982a8de78e945f0abaf191376122a1563185a90213a26c5da77"
   }
  }
 },
 "nbformat": 4,
 "nbformat_minor": 2
}
