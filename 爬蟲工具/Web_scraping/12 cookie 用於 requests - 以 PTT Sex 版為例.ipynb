{
 "cells": [
  {
   "cell_type": "markdown",
   "id": "af7c99e7",
   "metadata": {},
   "source": [
    "# 以 PTT Sex (西斯) 版為例"
   ]
  },
  {
   "cell_type": "code",
   "execution_count": 1,
   "id": "cd2ac08a",
   "metadata": {},
   "outputs": [
    {
     "name": "stdout",
     "output_type": "stream",
     "text": [
      "[新聞] 台中大叔寶雅偷拍短裙女 碰到腳踝露餡急\n",
      "https://www.ptt.cc/bbs/sex/M.1667380827.A.4FD.html\n",
      "[公告] 西斯板規 Ver 6.2.9\n",
      "https://www.ptt.cc/bbs/sex/M.1444975473.A.7C9.html\n",
      "Fw: [公告] 請使用者多加注意我國保護兒少的法令\n",
      "https://www.ptt.cc/bbs/sex/M.1564409000.A.CD1.html\n",
      "[公告] 2022 十一月 西斯置底閒聊區\n",
      "https://www.ptt.cc/bbs/sex/M.1667321487.A.557.html\n"
     ]
    }
   ],
   "source": [
    "import requests as req\n",
    "from bs4 import BeautifulSoup as bs\n",
    "\n",
    " # PTT sex (西斯) 板\n",
    "url = \"https://www.ptt.cc/bbs/sex/index.html\"\n",
    "\n",
    "# 首頁網址\n",
    "prefix = 'https://www.ptt.cc'\n",
    "\n",
    "# 設定 cookie\n",
    "my_cookies = {\n",
    "    \"over18\": \"1\"\n",
    "}\n",
    "\n",
    "# 用 requests 的 get 方法把網頁抓下來\n",
    "res = req.get(url, cookies = my_cookies) \n",
    "\n",
    "# 指定 lxml 作為解析器\n",
    "soup = bs(res.text, \"lxml\")\n",
    "\n",
    "# 顯示連結列表\n",
    "for a in soup.select('div.r-ent > div.title > a'):\n",
    "    print(a.get_text())\n",
    "    print(prefix + a['href'])"
   ]
  }
 ],
 "metadata": {
  "kernelspec": {
   "display_name": "Python 3.10.7 64-bit",
   "language": "python",
   "name": "python3"
  },
  "language_info": {
   "codemirror_mode": {
    "name": "ipython",
    "version": 3
   },
   "file_extension": ".py",
   "mimetype": "text/x-python",
   "name": "python",
   "nbconvert_exporter": "python",
   "pygments_lexer": "ipython3",
   "version": "3.10.7"
  },
  "vscode": {
   "interpreter": {
    "hash": "26de051ba29f2982a8de78e945f0abaf191376122a1563185a90213a26c5da77"
   }
  }
 },
 "nbformat": 4,
 "nbformat_minor": 5
}
