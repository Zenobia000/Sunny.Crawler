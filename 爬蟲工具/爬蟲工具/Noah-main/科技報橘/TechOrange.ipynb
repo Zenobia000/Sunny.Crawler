{
 "cells": [
  {
   "cell_type": "code",
   "execution_count": 2,
   "metadata": {},
   "outputs": [],
   "source": [
    "from selenium import webdriver\n",
    "from selenium.webdriver.chrome.service import Service\n",
    "from webdriver_manager.chrome import ChromeDriverManager\n",
    "from selenium.common.exceptions import TimeoutException\n",
    "from selenium.webdriver.support.ui import WebDriverWait\n",
    "from selenium.webdriver.support import expected_conditions as EC\n",
    "from selenium.webdriver.common.by import By\n",
    "from time import sleep\n",
    "import undetected_chromedriver as uc\n",
    "import json\n",
    "import pandas as pd"
   ]
  },
  {
   "cell_type": "code",
   "execution_count": 3,
   "metadata": {},
   "outputs": [],
   "source": [
    "my_options = webdriver.ChromeOptions()\n",
    "# my_options.add_argument(\"--headless\")                #不開啟實體瀏覽器背景執行\n",
    "my_options.add_argument(\"--start-maximized\")  # 最大化視窗\n",
    "my_options.add_argument(\"--incognito\")  # 開啟無痕模式\n",
    "my_options.add_argument(\"--disable-popup-blocking\")  # 禁用彈出攔截\n",
    "my_options.add_argument(\"--disable-notifications\")  # 取消 chrome 推播通知\n",
    "my_options.add_argument(\"--lang=zh-TW\")  # 設定為正體中文\n",
    "my_options.add_argument('blink-settings=imagesEnabled=false')  # 不載入圖\n",
    "my_options.add_experimental_option(\n",
    "    \"excludeSwitches\", ['enable-automation', 'enable-logging'])  # 沒有異常log\n",
    "driver = webdriver.Chrome(\n",
    "    options=my_options,\n",
    "    service=Service(ChromeDriverManager().install())\n",
    ")"
   ]
  },
  {
   "cell_type": "code",
   "execution_count": 11,
   "metadata": {},
   "outputs": [
    {
     "data": {
      "text/plain": [
       "'https://buzzorange.com/techorange/2022/12/02/create-with-alexa/'"
      ]
     },
     "execution_count": 11,
     "metadata": {},
     "output_type": "execute_result"
    }
   ],
   "source": [
    "#首頁\n",
    "# links=driver.find_elements(By.CSS_SELECTOR,'body > div > div > div > div> div > div > article > div > a')\n",
    "# links[0].get_attribute('href')\n",
    "#搜尋後的link\n",
    "search_links=driver.find_elements(By.CSS_SELECTOR,'div > div > div > div > article > div.post__text > h3 > a')\n",
    "search_links[0].get_attribute('href')"
   ]
  },
  {
   "cell_type": "code",
   "execution_count": 27,
   "metadata": {},
   "outputs": [],
   "source": [
    "results=[]"
   ]
  },
  {
   "cell_type": "code",
   "execution_count": 29,
   "metadata": {},
   "outputs": [],
   "source": [
    "def get_text():\n",
    "\n",
    "    title=driver.find_element(By.CSS_SELECTOR,'body > div.site-wrapper.ceris-dedicated-single-header.ceris-tofind-single-separator.header-8.ceris-mobile-header-sticky > div.site-content.atbs-single-style-9.single-infinity-scroll > div > div > div > div > header > h1').get_attribute('innerText')\n",
    "    post=driver.find_element(By.CSS_SELECTOR,'body > div.site-wrapper.ceris-dedicated-single-header.ceris-tofind-single-separator.header-8.ceris-mobile-header-sticky > div.site-content.atbs-single-style-9.single-infinity-scroll > div.single-entry-wrap.single-infinity-container > div > div:nth-child(2) > div > div > div.atbs-ceris-main-col > article > div > div > div.single-body--content > div.single-content__wrap').get_attribute('innerText').replace('\\n','').replace('\\xa0','')\n",
    "    date=driver.find_element(By.CSS_SELECTOR,'div > time').get_attribute('innerText')\n",
    "    # comments=driver.find_element(By.CSS_SELECTOR,'body > div.container.index-top > div > div > div.leftside > div:nth-child(1) > div.qa-panel__content > div.qa-markdown').get_attribute('innerText')\n",
    "    inner_post={\n",
    "\n",
    "        '文章標題':title,\n",
    "        '文章內容':post,\n",
    "        '發文時間':date,\n",
    "    }\n",
    "    results.append(inner_post)"
   ]
  },
  {
   "cell_type": "code",
   "execution_count": 30,
   "metadata": {},
   "outputs": [],
   "source": [
    "\n",
    "get_text()"
   ]
  },
  {
   "cell_type": "code",
   "execution_count": null,
   "metadata": {},
   "outputs": [],
   "source": [
    "results"
   ]
  }
 ],
 "metadata": {
  "kernelspec": {
   "display_name": "Python 3.11.0 64-bit",
   "language": "python",
   "name": "python3"
  },
  "language_info": {
   "codemirror_mode": {
    "name": "ipython",
    "version": 3
   },
   "file_extension": ".py",
   "mimetype": "text/x-python",
   "name": "python",
   "nbconvert_exporter": "python",
   "pygments_lexer": "ipython3",
   "version": "3.11.0"
  },
  "orig_nbformat": 4,
  "vscode": {
   "interpreter": {
    "hash": "3ad8059b2bc2a060cdcab62ddbbac7ba99d9af6ed9b237ea5a2b56c1b0a1720e"
   }
  }
 },
 "nbformat": 4,
 "nbformat_minor": 2
}
