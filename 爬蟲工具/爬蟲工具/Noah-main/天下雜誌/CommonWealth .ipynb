{
 "cells": [
  {
   "cell_type": "code",
   "execution_count": 49,
   "metadata": {},
   "outputs": [],
   "source": [
    "# import\n",
    "from selenium import webdriver\n",
    "from selenium.webdriver.chrome.service import Service\n",
    "from webdriver_manager.chrome import ChromeDriverManager\n",
    "from selenium.common.exceptions import TimeoutException\n",
    "from selenium.webdriver.support.ui import WebDriverWait\n",
    "from selenium.webdriver.support import expected_conditions as EC\n",
    "from selenium.webdriver.common.by import By\n",
    "from time import sleep\n",
    "import json\n",
    "import pandas as pd\n",
    "import undetected_chromedriver as uc\n",
    "import pickle"
   ]
  },
  {
   "cell_type": "code",
   "execution_count": 30,
   "metadata": {},
   "outputs": [],
   "source": []
  },
  {
   "cell_type": "code",
   "execution_count": 50,
   "metadata": {},
   "outputs": [],
   "source": [
    "my_options = webdriver.ChromeOptions()\n",
    "my_options.add_argument(\"--start-maximized\")  # 最大化視窗\n",
    "my_options.add_argument(\"--incognito\")  # 開啟無痕模式\n",
    "my_options.add_argument(\"--disable-popup-blocking\")  # 禁用彈出攔截\n",
    "my_options.add_argument(\"--disable-notifications\")  # 取消 chrome 推播通知\n",
    "my_options.add_argument(\"--lang=zh-TW\")  # 設定為正體中文\n",
    "\n",
    "driver = uc.Chrome(\n",
    "    options=my_options,\n",
    "    service=Service(ChromeDriverManager().install())\n",
    ")"
   ]
  },
  {
   "cell_type": "code",
   "execution_count": 51,
   "metadata": {},
   "outputs": [],
   "source": []
  },
  {
   "cell_type": "code",
   "execution_count": 39,
   "metadata": {},
   "outputs": [],
   "source": [
    "driver.get('https://www.cw.com.tw/article/5108427')"
   ]
  },
  {
   "cell_type": "code",
   "execution_count": 53,
   "metadata": {},
   "outputs": [],
   "source": [
    "alinks=[]"
   ]
  },
  {
   "cell_type": "code",
   "execution_count": 52,
   "metadata": {},
   "outputs": [],
   "source": [
    "def input_links():\n",
    "    links=driver.find_elements(By.CSS_SELECTOR,'body > div.main > div > article > section> div > h3 > a')\n",
    "    for link in links :\n",
    "        link=link.get_attribute('href')\n",
    "        alinks.append(link)"
   ]
  },
  {
   "cell_type": "code",
   "execution_count": 54,
   "metadata": {},
   "outputs": [],
   "source": [
    "num_s=input('起始頁?')\n",
    "num_e=input('結束頁?')\n",
    "for page in range(int(num_s),int(num_e)):\n",
    "    url='https://www.cw.com.tw/masterChannel.action?idMasterChannel=8&page='+str(page)\n",
    "    driver.get(url)\n",
    "    sleep(1)\n",
    "    input_links()"
   ]
  },
  {
   "cell_type": "code",
   "execution_count": null,
   "metadata": {},
   "outputs": [],
   "source": [
    "len(alinks)"
   ]
  },
  {
   "cell_type": "code",
   "execution_count": null,
   "metadata": {},
   "outputs": [],
   "source": [
    "for i in alinks :\n",
    "    driver.get(i)"
   ]
  },
  {
   "cell_type": "code",
   "execution_count": 23,
   "metadata": {},
   "outputs": [
    {
     "data": {
      "text/plain": [
       "'近來金融市場發生各種怪事件吸引了Netflix的目光，準備寫成新影集。劇中焦點將是Reddit WallStreetBets版的800萬追蹤者與他們的蜂群交易模式（swarm trading）。\\n\\n這群散戶在1月底炒高了多檔搖搖欲墜的企業股票，讓做空的對沖基金損失慘重，也讓Robinhood等網路券商被迫提高現金水位來因應大幅震盪。\\n\\n蜂群似乎已經朝下一個目標移動了。原本受青睞的股票開始跌價，白銀價格水漲船高。與此同時，許多市場的常態規則都被擺到一邊。\\n\\n去年，共有近300家「特殊目的收購公司」（SPAC）上市，募集超過800億美元，讓企業得以規避IPO的繁複手續，直接到市場上籌資。特斯拉成為市值第五高的企業。比特幣突然成為主流。部份股票的交易量創下十年新高，多種衍生性金融商品的交易量甚至爆表了。\\xa0\\xa0 \\xa0\\n\\n美股比2000年股災還便宜\\n\\n其中一個原因是，政府的紓困方案為風險性債務設定了樓地板。銀行的現金多到開始拒絕接受存款。許多民眾拿到振興支票之後，選擇投入股市。'"
      ]
     },
     "execution_count": 23,
     "metadata": {},
     "output_type": "execute_result"
    }
   ],
   "source": [
    "txt= driver.find_element(By.CSS_SELECTOR,'body > main > article > div.article__body.pt-d-40.pt-m-30.px20 > div.article__content.py20').get_attribute('innerText')\n",
    "txt"
   ]
  }
 ],
 "metadata": {
  "kernelspec": {
   "display_name": "Python 3",
   "language": "python",
   "name": "python3"
  },
  "language_info": {
   "codemirror_mode": {
    "name": "ipython",
    "version": 3
   },
   "file_extension": ".py",
   "mimetype": "text/x-python",
   "name": "python",
   "nbconvert_exporter": "python",
   "pygments_lexer": "ipython3",
   "version": "3.10.7"
  },
  "orig_nbformat": 4,
  "vscode": {
   "interpreter": {
    "hash": "26de051ba29f2982a8de78e945f0abaf191376122a1563185a90213a26c5da77"
   }
  }
 },
 "nbformat": 4,
 "nbformat_minor": 2
}
