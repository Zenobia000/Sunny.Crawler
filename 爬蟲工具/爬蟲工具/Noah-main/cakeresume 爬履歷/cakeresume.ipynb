{
 "cells": [
  {
   "cell_type": "code",
   "execution_count": 1,
   "metadata": {},
   "outputs": [],
   "source": [
    "from selenium import webdriver\n",
    "from selenium.webdriver.chrome.service import Service\n",
    "from webdriver_manager.chrome import ChromeDriverManager\n",
    "from selenium.common.exceptions import TimeoutException\n",
    "from selenium.webdriver.support.ui import WebDriverWait\n",
    "from selenium.webdriver.support import expected_conditions as EC\n",
    "from selenium.webdriver.common.by import By\n",
    "from time import sleep\n",
    "import json\n",
    "import re\n",
    "\n",
    "\n",
    "# 啟動瀏覽器工具的選項\n",
    "my_options = webdriver.ChromeOptions()\n",
    "# my_options.add_argument(\"--headless\")                #不開啟實體瀏覽器背景執行\n",
    "my_options.add_argument(\"--start-maximized\")  # 最大化視窗\n",
    "my_options.add_argument(\"--incognito\")  # 開啟無痕模式\n",
    "my_options.add_argument(\"--disable-popup-blocking\")  # 禁用彈出攔截\n",
    "my_options.add_argument(\"--disable-notifications\")  # 取消 chrome 推播通知\n",
    "my_options.add_argument(\"--lang=zh-TW\")  # 設定為正體中文\n",
    "my_options.add_experimental_option('excludeSwitches', ['enable-logging'])\n",
    "my_options.add_experimental_option('excludeSwitches', ['enable-automation'])"
   ]
  },
  {
   "cell_type": "code",
   "execution_count": 3,
   "metadata": {},
   "outputs": [],
   "source": [
    "driver = webdriver.Chrome(\n",
    "    options=my_options,\n",
    "    service=Service(ChromeDriverManager().install())\n",
    "    # cookie=\n",
    ")"
   ]
  },
  {
   "cell_type": "code",
   "execution_count": 4,
   "metadata": {},
   "outputs": [],
   "source": [
    "url = \"https://www.cakeresume.com/resumes\"\n",
    "driver.get(url)"
   ]
  },
  {
   "cell_type": "code",
   "execution_count": null,
   "metadata": {},
   "outputs": [],
   "source": [
    "user_account='bape851216@gmail.com'\n",
    "user_passwd='aaa12345'\n",
    "\n",
    "login_btn=driver.find_element(By.CSS_SELECTOR,' #global-header-v2 > div > div > div.header-right > a.btn.btn-link')\n",
    "login_btn.click()\n",
    "sleep(0.5)\n",
    "account=driver.find_element(By.CSS_SELECTOR,' label:nth-child(1) > div > div > input')\n",
    "account.send_keys(user_account)\n",
    "sleep(0.5)\n",
    "passwd=driver.find_element(By.CSS_SELECTOR,'  label:nth-child(2) > div > div > input')\n",
    "passwd.send_keys(user_passwd)\n",
    "enter=driver.find_element(By.XPATH,'//*[@id=\"__next\"]/div/div[12]/div[2]/div[2]/div/form/div[3]/button')\n",
    "enter.click()"
   ]
  },
  {
   "cell_type": "code",
   "execution_count": 6,
   "metadata": {},
   "outputs": [],
   "source": [
    "btn1=driver.find_element(By.XPATH,'//*[@id=\"items-index\"]/div[1]/div[3]/div[1]/form/div[1]/input')\n",
    "btn1.clear()\n",
    "btn1.send_keys('軟體工程師')\n",
    "btn1.click()\n",
    "#輸入或者選擇\n"
   ]
  },
  {
   "cell_type": "code",
   "execution_count": 6,
   "metadata": {},
   "outputs": [],
   "source": [
    "btn2=driver.find_element(By.XPATH,'//*[@id=\"items-index\"]/div[1]/div[3]/div[1]/form/div[2]/div/div[1]/div[2]')\n",
    "btn2.click()"
   ]
  },
  {
   "cell_type": "code",
   "execution_count": 35,
   "metadata": {},
   "outputs": [
    {
     "data": {
      "text/plain": [
       "'生物、醫藥 '"
      ]
     },
     "execution_count": 35,
     "metadata": {},
     "output_type": "execute_result"
    }
   ],
   "source": [
    "#生物醫學\n",
    "#大類別\n",
    "BM_title = driver.find_element(By.CSS_SELECTOR,'#items-index > footer > div > div > div:nth-child(1) > div > div > div > ul > div:nth-child(1) > div > a')\n",
    "#子類別\n",
    "BM_linktxt = driver.find_elements(By.CSS_SELECTOR,'#items-index > footer > div > div > div:nth-child(1) > div > div > div > ul > div:nth-child(1) > div > ul > li')\n",
    "#連結\n",
    "BM_links = driver.find_elements(By.CSS_SELECTOR,'#items-index > footer > div > div > div:nth-child(1) > div > div > div > ul > div:nth-child(1) > div > ul > li > a')"
   ]
  },
  {
   "cell_type": "code",
   "execution_count": 49,
   "metadata": {},
   "outputs": [
    {
     "data": {
      "text/plain": [
       "'建設 '"
      ]
     },
     "execution_count": 49,
     "metadata": {},
     "output_type": "execute_result"
    }
   ],
   "source": [
    "#建設\n",
    "Construction_title = driver.find_element(By.CSS_SELECTOR,'#items-index > footer > div > div > div:nth-child(1) > div > div > div > ul > div:nth-child(2) > div > a')\n",
    "# Construction_title.get_attribute('innerText')\n",
    "Construction_linktxt = driver.find_elements(By.CSS_SELECTOR,'#items-index > footer > div > div > div:nth-child(1) > div > div > div > ul > div:nth-child(2) > div > ul > li')\n",
    "# Construction_linktxt[0].get_attribute('innerText')\n",
    "Construction_links = driver.find_elements(By.CSS_SELECTOR,'#items-index > footer > div > div > div:nth-child(1) > div > div > div > ul > div:nth-child(2) > div > ul > li > a')\n",
    "# Construction_links[0].get_attribute('href')\n"
   ]
  },
  {
   "cell_type": "code",
   "execution_count": 53,
   "metadata": {},
   "outputs": [
    {
     "data": {
      "text/plain": [
       "'客戶服務 '"
      ]
     },
     "execution_count": 53,
     "metadata": {},
     "output_type": "execute_result"
    }
   ],
   "source": [
    "#客戶服務 \n",
    "CS_title = driver.find_element(By.CSS_SELECTOR,'#items-index > footer > div > div > div:nth-child(1) > div > div > div > ul > div:nth-child(3) > div > a')\n",
    "# CS_title.get_attribute('innerText')\n",
    "CS_linktxt = driver.find_elements(By.CSS_SELECTOR,'#items-index > footer > div > div > div:nth-child(1) > div > div > div > ul > div:nth-child(3) > div > ul > li')\n",
    "# CS_linktxt[0].get_attribute('innerText')\n",
    "CS_links = driver.find_elements(By.CSS_SELECTOR,'#items-index > footer > div > div > div:nth-child(1) > div > div > div > ul > div:nth-child(3) > div > ul > li > a')\n",
    "# CS_links[0].get_attribute('href')\n"
   ]
  },
  {
   "cell_type": "code",
   "execution_count": 56,
   "metadata": {},
   "outputs": [
    {
     "data": {
      "text/plain": [
       "'https://www.cakeresume.com/jobs/categories/sales/account-manager'"
      ]
     },
     "execution_count": 56,
     "metadata": {},
     "output_type": "execute_result"
    }
   ],
   "source": [
    "#業務 \n",
    "Sales_title = driver.find_element(By.CSS_SELECTOR,'#items-index > footer > div > div > div:nth-child(1) > div > div > div > ul > div:nth-child(4) > div > a')\n",
    "Sales_title.get_attribute('innerText')\n",
    "Sales_linktxt = driver.find_elements(By.CSS_SELECTOR,'#items-index > footer > div > div > div:nth-child(1) > div > div > div > ul > div:nth-child(4) > div > ul > li')\n",
    "Sales_linktxt[0].get_attribute('innerText')\n",
    "Sales_links = driver.find_elements(By.CSS_SELECTOR,'#items-index > footer > div > div > div:nth-child(1) > div > div > div > ul > div:nth-child(4) > div > ul > li > a')\n",
    "Sales_links[0].get_attribute('href')\n"
   ]
  },
  {
   "cell_type": "code",
   "execution_count": 58,
   "metadata": {},
   "outputs": [
    {
     "data": {
      "text/plain": [
       "'設計 '"
      ]
     },
     "execution_count": 58,
     "metadata": {},
     "output_type": "execute_result"
    }
   ],
   "source": [
    "#設計\n",
    "Design_title = driver.find_element(By.CSS_SELECTOR,'#items-index > footer > div > div > div:nth-child(1) > div > div > div > ul > div:nth-child(5) > div > a')\n",
    "Design_title.get_attribute('innerText')\n",
    "Design_linktxt = driver.find_elements(By.CSS_SELECTOR,'#items-index > footer > div > div > div:nth-child(1) > div > div > div > ul > div:nth-child(5) > div > ul > li')\n",
    "Design_linktxt[0].get_attribute('innerText')\n",
    "Design_links = driver.find_elements(By.CSS_SELECTOR,'#items-index > footer > div > div > div:nth-child(1) > div > div > div > ul > div:nth-child(5) > div > ul > li > a')\n",
    "Design_links[0].get_attribute('href')\n"
   ]
  },
  {
   "cell_type": "code",
   "execution_count": 57,
   "metadata": {},
   "outputs": [
    {
     "data": {
      "text/plain": [
       "'教育 '"
      ]
     },
     "execution_count": 57,
     "metadata": {},
     "output_type": "execute_result"
    }
   ],
   "source": [
    "#教育\n",
    "Education_title = driver.find_element(By.CSS_SELECTOR,'#items-index > footer > div > div > div:nth-child(1) > div > div > div > ul > div:nth-child(6) > div > a')\n",
    "Education_title.get_attribute('innerText')\n",
    "Education_linktxt = driver.find_elements(By.CSS_SELECTOR,'#items-index > footer > div > div > div:nth-child(1) > div > div > div > ul > div:nth-child(6) > div > ul > li')\n",
    "Education_linktxt[0].get_attribute('innerText')\n",
    "Education_links = driver.find_elements(By.CSS_SELECTOR,'#items-index > footer > div > div > div:nth-child(1) > div > div > div > ul > div:nth-child(6) > div > ul > li > a')\n",
    "Education_links[0].get_attribute('href')\n"
   ]
  },
  {
   "cell_type": "code",
   "execution_count": 59,
   "metadata": {},
   "outputs": [
    {
     "data": {
      "text/plain": [
       "'工程研發 '"
      ]
     },
     "execution_count": 59,
     "metadata": {},
     "output_type": "execute_result"
    }
   ],
   "source": [
    "#工程研發\n",
    "Engineering_title = driver.find_element(By.CSS_SELECTOR,'#items-index > footer > div > div > div:nth-child(1) > div > div > div > ul > div:nth-child(7) > div > a')\n",
    "Engineering_title.get_attribute('innerText')\n",
    "Engineering_linktxt = driver.find_elements(By.CSS_SELECTOR,'#items-index > footer > div > div > div:nth-child(1) > div > div > div > ul > div:nth-child(7) > div > ul > li')\n",
    "Engineering_linktxt[0].get_attribute('innerText')\n",
    "Engineering_links = driver.find_elements(By.CSS_SELECTOR,'#items-index > footer > div > div > div:nth-child(1) > div > div > div > ul > div:nth-child(7) > div > ul > li > a')\n",
    "Engineering_links[0].get_attribute('href')\n"
   ]
  },
  {
   "cell_type": "code",
   "execution_count": 62,
   "metadata": {},
   "outputs": [
    {
     "data": {
      "text/plain": [
       "'金融 '"
      ]
     },
     "execution_count": 62,
     "metadata": {},
     "output_type": "execute_result"
    }
   ],
   "source": [
    "#金融\n",
    "Finance_title = driver.find_element(By.CSS_SELECTOR,'#items-index > footer > div > div > div:nth-child(1) > div > div > div > ul > div:nth-child(8) > div > a')\n",
    "Finance_title.get_attribute('innerText')\n",
    "Finance_linktxt = driver.find_elements(By.CSS_SELECTOR,'#items-index > footer > div > div > div:nth-child(1) > div > div > div > ul > div:nth-child(8) > div > ul > li')\n",
    "Finance_linktxt[0].get_attribute('innerText')\n",
    "Finance_links = driver.find_elements(By.CSS_SELECTOR,'#items-index > footer > div > div > div:nth-child(1) > div > div > div > ul > div:nth-child(8) > div > ul > li > a')\n",
    "Finance_links[0].get_attribute('href')\n"
   ]
  },
  {
   "cell_type": "code",
   "execution_count": 64,
   "metadata": {},
   "outputs": [
    {
     "data": {
      "text/plain": [
       "'餐飲服務 / 食品相關 '"
      ]
     },
     "execution_count": 64,
     "metadata": {},
     "output_type": "execute_result"
    }
   ],
   "source": [
    "#餐飲服務 / 食品相關\n",
    "CFB_title = driver.find_element(By.CSS_SELECTOR,'#items-index > footer > div > div > div:nth-child(1) > div > div > div > ul > div:nth-child(9) > div > a')\n",
    "CFB_title.get_attribute('innerText')\n",
    "CFB_linktxt = driver.find_elements(By.CSS_SELECTOR,'#items-index > footer > div > div > div:nth-child(1) > div > div > div > ul > div:nth-child(9) > div > ul > li')\n",
    "CFB_linktxt[0].get_attribute('innerText')\n",
    "CFB_links = driver.find_elements(By.CSS_SELECTOR,'#items-index > footer > div > div > div:nth-child(1) > div > div > div > ul > div:nth-child(9) > div > ul > li > a')\n",
    "CFB_links[0].get_attribute('href')\n"
   ]
  },
  {
   "cell_type": "code",
   "execution_count": 65,
   "metadata": {},
   "outputs": [
    {
     "data": {
      "text/plain": [
       "'遊戲製作 '"
      ]
     },
     "execution_count": 65,
     "metadata": {},
     "output_type": "execute_result"
    }
   ],
   "source": [
    "#遊戲製作\n",
    "GP_title = driver.find_element(By.CSS_SELECTOR,'#items-index > footer > div > div > div:nth-child(1) > div > div > div > ul > div:nth-child(10) > div > a')\n",
    "GP_title.get_attribute('innerText')\n",
    "GP_linktxt = driver.find_elements(By.CSS_SELECTOR,'#items-index > footer > div > div > div:nth-child(1) > div > div > div > ul > div:nth-child(10) > div > ul > li')\n",
    "GP_linktxt[0].get_attribute('innerText')\n",
    "GP_links = driver.find_elements(By.CSS_SELECTOR,'#items-index > footer > div > div > div:nth-child(1) > div > div > div > ul > div:nth-child(10) > div > ul > li > a')\n",
    "GP_links[0].get_attribute('href')\n"
   ]
  },
  {
   "cell_type": "code",
   "execution_count": 66,
   "metadata": {
    "notebookRunGroups": {
     "groupValue": "1"
    }
   },
   "outputs": [
    {
     "data": {
      "text/plain": [
       "'人資 '"
      ]
     },
     "execution_count": 66,
     "metadata": {},
     "output_type": "execute_result"
    }
   ],
   "source": [
    "#人資\n",
    "HR_title = driver.find_element(By.CSS_SELECTOR,'#items-index > footer > div > div > div:nth-child(1) > div > div > div > ul > div:nth-child(11) > div > a')\n",
    "HR_title.get_attribute('innerText')\n",
    "HR_linktxt = driver.find_elements(By.CSS_SELECTOR,'#items-index > footer > div > div > div:nth-child(1) > div > div > div > ul > div:nth-child(11) > div > ul > li')\n",
    "HR_linktxt[0].get_attribute('innerText')\n",
    "HR_links = driver.find_elements(By.CSS_SELECTOR,'#items-index > footer > div > div > div:nth-child(1) > div > div > div > ul > div:nth-child(11) > div > ul > li > a')\n",
    "HR_links[0].get_attribute('href')\n"
   ]
  },
  {
   "cell_type": "code",
   "execution_count": 67,
   "metadata": {},
   "outputs": [
    {
     "data": {
      "text/plain": [
       "'軟體 '"
      ]
     },
     "execution_count": 67,
     "metadata": {},
     "output_type": "execute_result"
    }
   ],
   "source": [
    "#軟體\n",
    "IT_title = driver.find_element(By.CSS_SELECTOR,'#items-index > footer > div > div > div:nth-child(1) > div > div > div > ul > div:nth-child(12) > div > a')\n",
    "IT_title.get_attribute('innerText')\n",
    "IT_linktxt = driver.find_elements(By.CSS_SELECTOR,'#items-index > footer > div > div > div:nth-child(1) > div > div > div > ul > div:nth-child(12) > div > ul > li')\n",
    "IT_linktxt[0].get_attribute('innerText')\n",
    "IT_links = driver.find_elements(By.CSS_SELECTOR,'#items-index > footer > div > div > div:nth-child(1) > div > div > div > ul > div:nth-child(12) > div > ul > li > a')\n",
    "IT_links[0].get_attribute('href')\n"
   ]
  },
  {
   "cell_type": "code",
   "execution_count": 68,
   "metadata": {},
   "outputs": [
    {
     "data": {
      "text/plain": [
       "'法律 '"
      ]
     },
     "execution_count": 68,
     "metadata": {},
     "output_type": "execute_result"
    }
   ],
   "source": [
    "#法律\n",
    "Law_title = driver.find_element(By.CSS_SELECTOR,'#items-index > footer > div > div > div:nth-child(1) > div > div > div > ul > div:nth-child(13) > div > a')\n",
    "Law_title.get_attribute('innerText')\n",
    "Law_linktxt = driver.find_elements(By.CSS_SELECTOR,'#items-index > footer > div > div > div:nth-child(1) > div > div > div > ul > div:nth-child(13) > div > ul > li')\n",
    "Law_linktxt[0].get_attribute('innerText')\n",
    "Law_links = driver.find_elements(By.CSS_SELECTOR,'#items-index > footer > div > div > div:nth-child(1) > div > div > div > ul > div:nth-child(13) > div > ul > li > a')\n",
    "Law_links[0].get_attribute('href')\n"
   ]
  },
  {
   "cell_type": "code",
   "execution_count": 70,
   "metadata": {},
   "outputs": [
    {
     "data": {
      "text/plain": [
       "'物流、貿易 '"
      ]
     },
     "execution_count": 70,
     "metadata": {},
     "output_type": "execute_result"
    }
   ],
   "source": [
    "#物流、貿易\n",
    "LT_title = driver.find_element(By.CSS_SELECTOR,'#items-index > footer > div > div > div:nth-child(1) > div > div > div > ul > div:nth-child(14) > div > a')\n",
    "LT_title.get_attribute('innerText')\n",
    "LT_linktxt = driver.find_elements(By.CSS_SELECTOR,'#items-index > footer > div > div > div:nth-child(1) > div > div > div > ul > div:nth-child(14) > div > ul > li')\n",
    "LT_linktxt[0].get_attribute('innerText')\n",
    "LT_links = driver.find_elements(By.CSS_SELECTOR,'#items-index > footer > div > div > div:nth-child(1) > div > div > div > ul > div:nth-child(14) > div > ul > li > a')\n",
    "LT_links[0].get_attribute('href')\n"
   ]
  },
  {
   "cell_type": "code",
   "execution_count": 72,
   "metadata": {},
   "outputs": [
    {
     "data": {
      "text/plain": [
       "'經營、管理、商務 '"
      ]
     },
     "execution_count": 72,
     "metadata": {},
     "output_type": "execute_result"
    }
   ],
   "source": [
    "#經營、管理、商務 \n",
    "MB_title = driver.find_element(By.CSS_SELECTOR,'#items-index > footer > div > div > div:nth-child(1) > div > div > div > ul > div:nth-child(15) > div > a')\n",
    "MB_title.get_attribute('innerText')\n",
    "MB_linktxt = driver.find_elements(By.CSS_SELECTOR,'#items-index > footer > div > div > div:nth-child(1) > div > div > div > ul > div:nth-child(15) > div > ul > li')\n",
    "MB_linktxt[0].get_attribute('innerText')\n",
    "MB_links = driver.find_elements(By.CSS_SELECTOR,'#items-index > footer > div > div > div:nth-child(1) > div > div > div > ul > div:nth-child(15) > div > ul > li > a')\n",
    "MB_links[0].get_attribute('href')\n"
   ]
  },
  {
   "cell_type": "code",
   "execution_count": 74,
   "metadata": {},
   "outputs": [
    {
     "data": {
      "text/plain": [
       "'製造 '"
      ]
     },
     "execution_count": 74,
     "metadata": {},
     "output_type": "execute_result"
    }
   ],
   "source": [
    "#製造 \n",
    "Manufacturing_title = driver.find_element(By.CSS_SELECTOR,'#items-index > footer > div > div > div:nth-child(1) > div > div > div > ul > div:nth-child(16) > div > a')\n",
    "Manufacturing_title.get_attribute('innerText')\n",
    "Manufacturing_linktxt = driver.find_elements(By.CSS_SELECTOR,'#items-index > footer > div > div > div:nth-child(1) > div > div > div > ul > div:nth-child(16) > div > ul > li')\n",
    "Manufacturing_linktxt[0].get_attribute('innerText')\n",
    "Manufacturing_links = driver.find_elements(By.CSS_SELECTOR,'#items-index > footer > div > div > div:nth-child(1) > div > div > div > ul > div:nth-child(16) > div > ul > li > a')\n",
    "Manufacturing_links[0].get_attribute('href')\n"
   ]
  },
  {
   "cell_type": "code",
   "execution_count": 75,
   "metadata": {},
   "outputs": [
    {
     "data": {
      "text/plain": [
       "'行銷 '"
      ]
     },
     "execution_count": 75,
     "metadata": {},
     "output_type": "execute_result"
    }
   ],
   "source": [
    "#行銷 \n",
    "MA_title = driver.find_element(By.CSS_SELECTOR,'#items-index > footer > div > div > div:nth-child(1) > div > div > div > ul > div:nth-child(17) > div > a')\n",
    "MA_title.get_attribute('innerText')\n",
    "MA_linktxt = driver.find_elements(By.CSS_SELECTOR,'#items-index > footer > div > div > div:nth-child(1) > div > div > div > ul > div:nth-child(17) > div > ul > li')\n",
    "MA_linktxt[0].get_attribute('innerText')\n",
    "MA_links = driver.find_elements(By.CSS_SELECTOR,'#items-index > footer > div > div > div:nth-child(1) > div > div > div > ul > div:nth-child(17) > div > ul > li > a')\n",
    "MA_links[0].get_attribute('href')\n"
   ]
  },
  {
   "cell_type": "code",
   "execution_count": 76,
   "metadata": {},
   "outputs": [
    {
     "data": {
      "text/plain": [
       "'文字編輯、新聞採訪、藝術演藝 '"
      ]
     },
     "execution_count": 76,
     "metadata": {},
     "output_type": "execute_result"
    }
   ],
   "source": [
    "#文字編輯、新聞採訪、藝術演藝 \n",
    "MC_title = driver.find_element(By.CSS_SELECTOR,'#items-index > footer > div > div > div:nth-child(1) > div > div > div > ul > div:nth-child(18) > div > a')\n",
    "MC_title.get_attribute('innerText')\n",
    "MC_linktxt = driver.find_elements(By.CSS_SELECTOR,'#items-index > footer > div > div > div:nth-child(1) > div > div > div > ul > div:nth-child(18) > div > ul > li')\n",
    "MC_linktxt[0].get_attribute('innerText')\n",
    "MC_links = driver.find_elements(By.CSS_SELECTOR,'#items-index > footer > div > div > div:nth-child(1) > div > div > div > ul > div:nth-child(18) > div > ul > li > a')\n",
    "MC_links[0].get_attribute('href')\n"
   ]
  },
  {
   "cell_type": "code",
   "execution_count": 79,
   "metadata": {},
   "outputs": [
    {
     "data": {
      "text/plain": [
       "'政府機關 '"
      ]
     },
     "execution_count": 79,
     "metadata": {},
     "output_type": "execute_result"
    }
   ],
   "source": [
    "#政府機關\n",
    "PSW_title = driver.find_element(By.CSS_SELECTOR,'#items-index > footer > div > div > div:nth-child(1) > div > div > div > ul > div:nth-child(19) > div > a')\n",
    "PSW_title.get_attribute('innerText')\n",
    "PSW_linktxt = driver.find_elements(By.CSS_SELECTOR,'#items-index > footer > div > div > div:nth-child(1) > div > div > div > ul > div:nth-child(19) > div > ul > li')\n",
    "PSW_linktxt[0].get_attribute('innerText')\n",
    "PSW_links = driver.find_elements(By.CSS_SELECTOR,'#items-index > footer > div > div > div:nth-child(1) > div > div > div > ul > div:nth-child(19) > div > ul > li > a')\n",
    "PSW_links[0].get_attribute('href')\n"
   ]
  },
  {
   "cell_type": "code",
   "execution_count": 81,
   "metadata": {},
   "outputs": [
    {
     "data": {
      "text/plain": [
       "'其他 '"
      ]
     },
     "execution_count": 81,
     "metadata": {},
     "output_type": "execute_result"
    }
   ],
   "source": [
    "#政府機關\n",
    "Other_title = driver.find_element(By.CSS_SELECTOR,'#items-index > footer > div > div > div:nth-child(1) > div > div > div > ul > div:nth-child(20) > div > a')\n",
    "Other_title.get_attribute('innerText')\n",
    "Other_linktxt = driver.find_elements(By.CSS_SELECTOR,'#items-index > footer > div > div > div:nth-child(1) > div > div > div > ul > div:nth-child(20) > div > ul > li')\n",
    "Other_linktxt[0].get_attribute('innerText')\n",
    "Other_links = driver.find_elements(By.CSS_SELECTOR,'#items-index > footer > div > div > div:nth-child(1) > div > div > div > ul > div:nth-child(20) > div > ul > li > a')\n",
    "Other_links[0].get_attribute('href')\n"
   ]
  },
  {
   "cell_type": "code",
   "execution_count": 19,
   "metadata": {},
   "outputs": [
    {
     "data": {
      "text/plain": [
       "'https://www.cakeresume.com/resumes/martin87713'"
      ]
     },
     "execution_count": 19,
     "metadata": {},
     "output_type": "execute_result"
    }
   ],
   "source": [
    "#內文\n",
    "alinks=driver.find_elements(By.CSS_SELECTOR,' div.item-image-container > a')\n",
    "alinks[0].get_attribute('href')"
   ]
  }
 ],
 "metadata": {
  "kernelspec": {
   "display_name": "Python 3.10.7 64-bit",
   "language": "python",
   "name": "python3"
  },
  "language_info": {
   "codemirror_mode": {
    "name": "ipython",
    "version": 3
   },
   "file_extension": ".py",
   "mimetype": "text/x-python",
   "name": "python",
   "nbconvert_exporter": "python",
   "pygments_lexer": "ipython3",
   "version": "3.10.7"
  },
  "orig_nbformat": 4,
  "vscode": {
   "interpreter": {
    "hash": "26de051ba29f2982a8de78e945f0abaf191376122a1563185a90213a26c5da77"
   }
  }
 },
 "nbformat": 4,
 "nbformat_minor": 2
}
