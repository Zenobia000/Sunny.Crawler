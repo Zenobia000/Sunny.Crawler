{
 "cells": [
  {
   "cell_type": "code",
   "execution_count": 21,
   "metadata": {},
   "outputs": [],
   "source": [
    "from selenium import webdriver\n",
    "from selenium.webdriver.chrome.service import Service\n",
    "from webdriver_manager.chrome import ChromeDriverManager\n",
    "from selenium.common.exceptions import TimeoutException\n",
    "from selenium.webdriver.support.ui import WebDriverWait\n",
    "from selenium.webdriver.support import expected_conditions as EC\n",
    "from selenium.webdriver.common.by import By\n",
    "from time import sleep\n",
    "import undetected_chromedriver as uc\n",
    "\n",
    "\n",
    "# 啟動瀏覽器工具的選項\n",
    "\n",
    "my_options = webdriver.ChromeOptions()\n",
    "# my_options.add_argument(\"--headless\")                #不開啟實體瀏覽器背景執行\n",
    "my_options.add_argument(\"--start-maximized\")  # 最大化視窗\n",
    "my_options.add_argument(\"--incognito\")  # 開啟無痕模式\n",
    "my_options.add_argument(\"--disable-popup-blocking\")  # 禁用彈出攔截\n",
    "my_options.add_argument(\"--disable-notifications\")  # 取消 chrome 推播通知\n",
    "my_options.add_argument(\"--lang=zh-TW\")  # 設定為正體中文\n",
    "my_options.add_argument('blink-settings=imagesEnabled=false') # 不載入圖\n",
    "\n",
    "driver = webdriver.Chrome(\n",
    "    options = my_options,\n",
    "    service = Service(ChromeDriverManager().install())\n",
    ")\n",
    "# driver = uc.Chrome(options=my_options)\n",
    "\n",
    "\n",
    "results = []\n",
    "sresults=set()\n",
    "\n",
    "alinks = []\n",
    "salinks=set()\n",
    "atitle = []\n",
    "satitle=set()\n",
    "plink_ptitle = []\n",
    "setTmp = set()\n"
   ]
  },
  {
   "cell_type": "code",
   "execution_count": 40,
   "metadata": {},
   "outputs": [],
   "source": [
    "import re\n",
    "import json \n",
    "import pandas as pd"
   ]
  },
  {
   "cell_type": "code",
   "execution_count": 4,
   "metadata": {},
   "outputs": [],
   "source": [
    "def links():\n",
    "    try:\n",
    "        links = driver.find_elements(By.CSS_SELECTOR, '  article > h2 > a')\n",
    "    except:\n",
    "        print('抓不到')\n",
    "    \n",
    "    for link in links:\n",
    "        plink = link.get_attribute('href')\n",
    "        ptitle = link.get_attribute('innerText')\n",
    "        setTmp.add(plink)\n",
    "        # rr = {\n",
    "        #     ptitle: plink\n",
    "        # }\n",
    "        # plink_ptitle.append(rr)\n",
    "        \n",
    "\n"
   ]
  },
  {
   "cell_type": "code",
   "execution_count": 2,
   "metadata": {},
   "outputs": [],
   "source": [
    "def scroll():\n",
    "    '''\n",
    "    innerHeight => 瀏覽器內部的高度\n",
    "    offset => 當前捲動的量(高度)\n",
    "    count => 累計無效滾動次數\n",
    "    limit => 最大無效滾動次數\n",
    "    '''\n",
    "    innerHeight = 0\n",
    "    offset = 0\n",
    "    count = 0\n",
    "    limit = 3\n",
    "    \n",
    "    # 在捲動到沒有元素動態產生前，持續捲動\n",
    "    while count <= limit:\n",
    "        # 每次移動高度\n",
    "        # offset = driver.execute_script(\n",
    "        #     'return window.document.documentElement.scrollHeight;'\n",
    "        # )\n",
    "\n",
    "        '''\n",
    "        或是每次只滾動一點距離，\n",
    "        以免有些網站會在移動長距離後，\n",
    "        將先前移動當中的元素隱藏\n",
    "\n",
    "        例如將上方的 script 改成:\n",
    "        '''\n",
    "        offset += 2000\n",
    "\n",
    "        # 捲軸往下滑動\n",
    "        driver.execute_script(f'''\n",
    "            window.scrollTo({{\n",
    "                top: {offset}, \n",
    "                behavior: 'smooth' \n",
    "            }});\n",
    "        ''')\n",
    "        \n",
    "        # 強制等待，此時若有新元素生成，瀏覽器內部高度會自動增加\n",
    "        sleep(1.5)\n",
    "        links()\n",
    "        # 透過執行 js 語法來取得捲動後的當前總高度\n",
    "        innerHeight = driver.execute_script(\n",
    "            'return window.document.documentElement.scrollHeight;'\n",
    "        )\n",
    "        \n",
    "        # 經過計算，如果滾動距離(offset)大於等於視窗內部總高度(innerHeight)，代表已經到底了\n",
    "        if offset == innerHeight:\n",
    "            count += 1\n",
    "            \n",
    "        # 為了實驗功能，捲動超過一定的距離，就結束程式\n",
    "        # if offset >= 600:\n",
    "        #     break"
   ]
  },
  {
   "cell_type": "code",
   "execution_count": 5,
   "metadata": {},
   "outputs": [],
   "source": [
    "driver.get(url)"
   ]
  },
  {
   "cell_type": "code",
   "execution_count": null,
   "metadata": {},
   "outputs": [],
   "source": [
    "#滾動爬取\n",
    "for i in range(10):\n",
    "    scroll()\n",
    "    sleep(0.3)\n",
    "    "
   ]
  },
  {
   "cell_type": "code",
   "execution_count": null,
   "metadata": {},
   "outputs": [],
   "source": [
    "print(setTmp)"
   ]
  },
  {
   "cell_type": "code",
   "execution_count": null,
   "metadata": {},
   "outputs": [],
   "source": [
    "#前往連結 但要休息 \n",
    "for i in range(len(setTmp)):\n",
    "    driver.get(list(setTmp)[i])\n",
    "    end_craw()\n",
    "    sleep(2)\n",
    "    if (i/20) == 0 :\n",
    "        print(\"累了\")\n",
    "        sleep(30)"
   ]
  },
  {
   "cell_type": "code",
   "execution_count": 281,
   "metadata": {},
   "outputs": [],
   "source": [
    "all_txt=[]\n",
    "results=[]\n",
    "all_school=[]\n",
    "all_comment=[]\n",
    "all_hearts=[]\n",
    "sfloor=set()\n",
    "tmp=set()"
   ]
  },
  {
   "cell_type": "code",
   "execution_count": 26,
   "metadata": {},
   "outputs": [],
   "source": []
  },
  {
   "cell_type": "code",
   "execution_count": null,
   "metadata": {},
   "outputs": [],
   "source": [
    "try:\n",
    "    comment=driver.find_element(By.CSS_SELECTOR,'#dcard-comment-anchor > div > div > div.atm_l8_1077ktj.c34rbji > section > div').get_attribute('innerText')\n",
    "except:\n",
    "    comment='None'\n",
    "\n",
    "comment.replace('\\n','-').split('-')\n",
    "\n",
    "#https://www.dcard.tw/f/tech_job/p/240599860\n",
    "#這個連結 沒有評論"
   ]
  },
  {
   "cell_type": "code",
   "execution_count": 99,
   "metadata": {},
   "outputs": [],
   "source": [
    "def scroll_D():\n",
    "    \n",
    "    innerHeight = 0\n",
    "    offset = 0\n",
    "    count = 0\n",
    "    limit = 1\n",
    "    \n",
    "    # 在捲動到沒有元素動態產生前，持續捲動\n",
    "    while count <= limit:\n",
    "        # offset = driver.execute_script(\n",
    "        #     'return window.document.documentElement.scrollHeight;'\n",
    "        # )\n",
    "        sleep(1)\n",
    "        offset+=800\n",
    "\n",
    "        driver.execute_script(f'''\n",
    "            window.scrollTo({{\n",
    "                top: {offset}, \n",
    "                behavior: 'smooth' \n",
    "            }});\n",
    "        ''')\n",
    "        # 透過執行 js 語法來取得捲動後的當前總高度\n",
    "        innerHeight = driver.execute_script(\n",
    "            'return window.document.documentElement.scrollHeight;'\n",
    "        )\n",
    "        if offset >= innerHeight:\n",
    "           count += 1\n",
    "    "
   ]
  },
  {
   "cell_type": "code",
   "execution_count": null,
   "metadata": {},
   "outputs": [],
   "source": [
    "scroll_D()"
   ]
  },
  {
   "cell_type": "code",
   "execution_count": 282,
   "metadata": {},
   "outputs": [
    {
     "data": {
      "text/plain": [
       "[]"
      ]
     },
     "execution_count": 282,
     "metadata": {},
     "output_type": "execute_result"
    }
   ],
   "source": [
    "results"
   ]
  },
  {
   "cell_type": "code",
   "execution_count": 33,
   "metadata": {},
   "outputs": [],
   "source": [
    "def end_craw():\n",
    "    title = driver.find_element(By.CSS_SELECTOR,'div > h1').get_attribute('innerText')\n",
    "    #內文\n",
    "    txt = driver.find_element(By.CSS_SELECTOR,'article > div.atm_lo_c0ivcw.atm_le_1ad2xrm.cgmw135 > div > div').get_attribute('innerText').replace('\\n','')\n",
    "    date=driver.find_element(By.CSS_SELECTOR,' div.atm_c8_3rwk2t.atm_9s_1txwivl.atm_h_1h6ojuz.atm_h3_1fwxnve.i1ym7go5 > div:nth-child(2)').get_attribute('innerText')\n",
    "\n",
    "    HC_total=driver.find_element(By.XPATH,'//*[@id=\"__next\"]/div[2]/div[2]/div/div/div/div/div[5]/div/div/div[1]').get_attribute('innerText')\n",
    "    HC_totals=HC_total.replace('\\n',' ').split(' ')\n",
    "\n",
    "    try:\n",
    "        tickets=driver.find_element(By.CSS_SELECTOR,'#__next > div  div:nth-child(4) > div > ul').get_attribute('innerText')\n",
    "        ticket=tickets.replace('\\n',',')\n",
    "    except:\n",
    "        print('沒標籤')\n",
    "        ticket='None'\n",
    "    result = {\n",
    "        '文章標題':title,\n",
    "        '發文內容':txt,\n",
    "        '發文時間':date,\n",
    "        '文章標籤':ticket,\n",
    "        '愛心數量':HC_totals[0],\n",
    "        '留言數量':HC_totals[-1],\n",
    "        '內文留言':''\n",
    "        }\n",
    "    # tmp.add(result)\n",
    "    results.append(result)"
   ]
  },
  {
   "cell_type": "code",
   "execution_count": 32,
   "metadata": {},
   "outputs": [],
   "source": [
    "def test():\n",
    "    ctxt=driver.find_element(By.CSS_SELECTOR,'#dcard-comment-anchor > div > div > div.atm_l8_1077ktj.c34rbji').get_attribute('innerText')\n",
    "    z=ctxt.replace('\\n','')\n",
    "    x=z.replace('回覆','\\n')\n",
    "    c=x.replace('20',',')\n",
    "    results.append(c)"
   ]
  },
  {
   "cell_type": "code",
   "execution_count": 32,
   "metadata": {},
   "outputs": [],
   "source": [
    "tmpcomment=set()\n",
    "results=[]"
   ]
  },
  {
   "cell_type": "code",
   "execution_count": 6,
   "metadata": {},
   "outputs": [],
   "source": [
    "comments=driver.find_elements(By.CSS_SELECTOR,'#dcard-comment-anchor > div > div > div.atm_l8_1077ktj.c34rbji > section > div > div > div > div > div > div > div > div >span')\n",
    "for comment in comments:\n",
    "        commentss=comment.get_attribute('innerText')\n",
    "        commentsss=commentss.replace('\\n','')\n",
    "        commentssss=[commentsss]\n",
    "        tmpcomment.update(commentssss)"
   ]
  },
  {
   "cell_type": "code",
   "execution_count": 31,
   "metadata": {},
   "outputs": [],
   "source": [
    "def test():\n",
    "    comments=driver.find_elements(By.CSS_SELECTOR,'#dcard-comment-anchor > div > div > div.atm_l8_1077ktj.c34rbji > section > div > div > div > div > div > div > div > div >span')\n",
    "    for comment in comments:\n",
    "            commentss=comment.get_attribute('innerText')\n",
    "            commentsss=commentss.replace('\\n','')\n",
    "            commentssss=[commentsss]\n",
    "            tmpcomment.update(commentssss)\n"
   ]
  },
  {
   "cell_type": "code",
   "execution_count": 30,
   "metadata": {},
   "outputs": [],
   "source": [
    "def btntest():\n",
    "    btn=driver.find_elements(By.CSS_SELECTOR,'#dcard-comment-anchor > div > div > div.atm_l8_1077ktj.c34rbji > section > div > div > div > div > div > button')\n",
    "\n",
    "    for i in range(len(btn)):\n",
    "        try:\n",
    "            btn[i].click()\n",
    "            sleep(2)\n",
    "            test()\n",
    "        except:\n",
    "            continue"
   ]
  },
  {
   "cell_type": "code",
   "execution_count": 29,
   "metadata": {},
   "outputs": [],
   "source": [
    "def finally_scroll():\n",
    "    \n",
    "    innerHeight = driver.execute_script(\n",
    "    'return window.document.documentElement.scrollHeight;'\n",
    "    )\n",
    "    innerHeight+=800\n",
    "    driver.execute_script(f'''\n",
    "        window.scrollTo({{\n",
    "            top: {innerHeight}, \n",
    "            behavior: 'smooth' \n",
    "        }});\n",
    "    ''')\n"
   ]
  },
  {
   "cell_type": "code",
   "execution_count": 28,
   "metadata": {},
   "outputs": [],
   "source": [
    "def f_btntest():\n",
    "    btn=driver.find_elements(By.CSS_SELECTOR,'#dcard-comment-anchor > div > div > div.atm_l8_1077ktj.c34rbji > section > div > div > div > div > div > button')\n",
    "\n",
    "    for i in range(len(btn)):\n",
    "        try:\n",
    "            bbb=btn[i].get_attribute('innerText')\n",
    "            pattern = re.compile(r'查看其他 \\d+ 則留言+')\n",
    "            results = pattern.findall(bbb)\n",
    "            if results == pattern.findall(bbb) :\n",
    "                btn[i].click()\n",
    "            sleep(2)\n",
    "            test()\n",
    "        except:\n",
    "            continue"
   ]
  },
  {
   "cell_type": "code",
   "execution_count": 27,
   "metadata": {},
   "outputs": [],
   "source": [
    "def scroll_D():\n",
    "    innerHeight = 0\n",
    "    offset = 0\n",
    "    count = 0\n",
    "    limit = 1\n",
    "    \n",
    "    # 在捲動到沒有元素動態產生前，持續捲動\n",
    "    while count <= limit:\n",
    "        # offset = driver.execute_script(\n",
    "        #     'return window.document.documentElement.scrollHeight;'\n",
    "        # )\n",
    "        sleep(2)\n",
    "\n",
    "        \n",
    "        btntest()\n",
    "        sleep(1)\n",
    "        test()\n",
    "        offset+=800\n",
    "        driver.execute_script(f'''\n",
    "            window.scrollTo({{\n",
    "                top: {offset}, \n",
    "                behavior: 'smooth' \n",
    "            }});\n",
    "        ''')\n",
    "        # 透過執行 js 語法來取得捲動後的當前總高度\n",
    "        innerHeight = driver.execute_script(\n",
    "            'return window.document.documentElement.scrollHeight;'\n",
    "        )\n",
    "        if offset >= innerHeight:\n",
    "           count += 1\n",
    "           \n",
    "    "
   ]
  },
  {
   "cell_type": "code",
   "execution_count": 38,
   "metadata": {},
   "outputs": [],
   "source": [
    "def end_craw():\n",
    "    title = driver.find_element(\n",
    "        By.CSS_SELECTOR, 'div > h1').get_attribute('innerText')\n",
    "    # 內文\n",
    "    txt = driver.find_element(By.CSS_SELECTOR, 'article > div.atm_lo_c0ivcw.atm_le_1ad2xrm.cgmw135 > div > div').get_attribute(\n",
    "        'innerText').replace('\\n', '')\n",
    "    date = driver.find_element(\n",
    "        By.CSS_SELECTOR, ' div.atm_c8_3rwk2t.atm_9s_1txwivl.atm_h_1h6ojuz.atm_h3_1fwxnve.i1ym7go5 > div:nth-child(2)').get_attribute('innerText')\n",
    "\n",
    "    try:\n",
    "        HC_total = driver.find_element(\n",
    "            By.XPATH, '//*[@id=\"__next\"]/div[2]/div[2]/div/div/div/div/div[5]/div/div/div[1]').get_attribute('innerText')\n",
    "        HC_totals = HC_total.replace('\\n', ' ').split(' ')\n",
    "    except: \n",
    "        HC_total=driver.find_element(By.XPATH,'//*[@id=\"__next\"]/div[2]/div[2]/div/div/div/div/div[6]/div/div/div[1]').get_attribute('innerText')\n",
    "        HC_totals = HC_total.replace('\\n', ' ').split(' ')\n",
    "    try:\n",
    "        tickets = driver.find_element(\n",
    "            By.CSS_SELECTOR, '#__next > div  div:nth-child(4) > div > ul').get_attribute('innerText')\n",
    "        ticket = tickets.replace('\\n', ',')\n",
    "    except:\n",
    "        print('ticket沒標籤')\n",
    "        ticket = 'None'\n",
    "    result = {\n",
    "        '文章標題': title,\n",
    "        '發文內容': txt,\n",
    "        '發文時間': date,\n",
    "        '文章標籤': ticket,\n",
    "        '愛心數量': HC_totals[0],\n",
    "        '留言數量': HC_totals[-1],\n",
    "        '內文留言': ''\n",
    "    }\n",
    "    # tmp.add(result)\n",
    "    results.append(result)\n",
    "\n",
    "\n",
    "\n",
    "def craw_1():\n",
    "    \n",
    "    try:\n",
    "        WebDriverWait(driver, 3).until(\n",
    "                            EC.presence_of_element_located(\n",
    "                                (By.CSS_SELECTOR, '#dcard-comment-anchor > div > div > div.atm_l8_1077ktj.c34rbji > section > div > div > div > div > div > div > div > div >span')))\n",
    "        comments = driver.find_elements(\n",
    "            By.CSS_SELECTOR, '#dcard-comment-anchor > div > div > div.atm_l8_1077ktj.c34rbji > section > div > div > div > div > div > div > div > div >span')\n",
    "        for comment in comments:\n",
    "            commentss = comment.get_attribute('innerText')\n",
    "            commentsss = commentss.replace('\\n', '')\n",
    "            commentssss = [commentsss]\n",
    "            tmpcomment.update(commentssss)\n",
    "    except:\n",
    "        commentssss='None'\n",
    "        tmpcomment.update(commentssss)\n",
    "\n",
    "\n",
    "def btntest():\n",
    "    btn = driver.find_elements(\n",
    "        By.CSS_SELECTOR, '#dcard-comment-anchor > div > div > div.atm_l8_1077ktj.c34rbji > section > div > div > div > div > div > button')\n",
    "\n",
    "    for i in range(len(btn)):\n",
    "        try:\n",
    "            btn[i].click()\n",
    "            sleep(2)\n",
    "            craw_1()\n",
    "        except:\n",
    "            continue\n",
    "\n",
    "\n",
    "def finally_scroll():\n",
    "\n",
    "    innerHeight = driver.execute_script(\n",
    "        'return window.document.documentElement.scrollHeight;'\n",
    "    )\n",
    "    innerHeight += 800\n",
    "    driver.execute_script(f'''\n",
    "        window.scrollTo({{\n",
    "            top: {innerHeight}, \n",
    "            behavior: 'smooth' \n",
    "        }});\n",
    "    ''')\n",
    "\n",
    "\n",
    "def f_btntest():\n",
    "    btn = driver.find_elements(\n",
    "        By.CSS_SELECTOR, '#dcard-comment-anchor > div > div > div.atm_l8_1077ktj.c34rbji > section > div > div > div > div > div > button')\n",
    "\n",
    "    for i in range(len(btn)):\n",
    "        try:\n",
    "            btn[i].click()\n",
    "            sleep(2)\n",
    "            craw_1()\n",
    "            finally_scroll()\n",
    "        except:\n",
    "            continue\n",
    "\n",
    "\n",
    "def scroll_D():\n",
    "    innerHeight = 0\n",
    "    offset = 0\n",
    "    count = 0\n",
    "    limit = 1\n",
    "\n",
    "    # 在捲動到沒有元素動態產生前，持續捲動\n",
    "    while count <= limit:\n",
    "        # offset = driver.execute_script(\n",
    "        #     'return window.document.documentElement.scrollHeight;'\n",
    "        # )\n",
    "        sleep(2)\n",
    "\n",
    "        btntest()\n",
    "        sleep(1)\n",
    "        craw_1()\n",
    "        offset += 800\n",
    "        driver.execute_script(f'''\n",
    "            window.scrollTo({{\n",
    "                top: {offset}, \n",
    "                behavior: 'smooth' \n",
    "            }});\n",
    "        ''')\n",
    "        # 透過執行 js 語法來取得捲動後的當前總高度\n",
    "        innerHeight = driver.execute_script(\n",
    "            'return window.document.documentElement.scrollHeight;'\n",
    "        )\n",
    "        if offset >= innerHeight:\n",
    "            count += 1\n"
   ]
  },
  {
   "cell_type": "code",
   "execution_count": 41,
   "metadata": {},
   "outputs": [
    {
     "ename": "TimeoutException",
     "evalue": "Message: \nStacktrace:\nBacktrace:\n\tOrdinal0 [0x0030ACD3+2075859]\n\tOrdinal0 [0x0029EE61+1633889]\n\tOrdinal0 [0x0019B7BD+571325]\n\tOrdinal0 [0x001CAC2F+764975]\n\tOrdinal0 [0x001CAE1B+765467]\n\tOrdinal0 [0x001FD0F2+970994]\n\tOrdinal0 [0x001E7364+881508]\n\tOrdinal0 [0x001FB56A+963946]\n\tOrdinal0 [0x001E7136+880950]\n\tOrdinal0 [0x001BFEFD+720637]\n\tOrdinal0 [0x001C0F3F+724799]\n\tGetHandleVerifier [0x005BEED2+2769538]\n\tGetHandleVerifier [0x005B0D95+2711877]\n\tGetHandleVerifier [0x0039A03A+521194]\n\tGetHandleVerifier [0x00398DA0+516432]\n\tOrdinal0 [0x002A682C+1665068]\n\tOrdinal0 [0x002AB128+1683752]\n\tOrdinal0 [0x002AB215+1683989]\n\tOrdinal0 [0x002B6484+1729668]\n\tBaseThreadInitThunk [0x75A0FA29+25]\n\tRtlGetAppContainerNamedObjectPath [0x77317B5E+286]\n\tRtlGetAppContainerNamedObjectPath [0x77317B2E+238]\n",
     "output_type": "error",
     "traceback": [
      "\u001b[1;31m---------------------------------------------------------------------------\u001b[0m",
      "\u001b[1;31mTimeoutException\u001b[0m                          Traceback (most recent call last)",
      "Cell \u001b[1;32mIn [41], line 3\u001b[0m\n\u001b[0;32m      1\u001b[0m \u001b[39mif\u001b[39;00m \u001b[39m__name__\u001b[39m \u001b[39m==\u001b[39m \u001b[39m'\u001b[39m\u001b[39m__main__\u001b[39m\u001b[39m'\u001b[39m :\n\u001b[0;32m      2\u001b[0m     end_craw()\n\u001b[1;32m----> 3\u001b[0m     scroll_D()\n\u001b[0;32m      4\u001b[0m     btntest()\n\u001b[0;32m      5\u001b[0m     f_btntest()\n",
      "Cell \u001b[1;32mIn [38], line 112\u001b[0m, in \u001b[0;36mscroll_D\u001b[1;34m()\u001b[0m\n\u001b[0;32m    110\u001b[0m btntest()\n\u001b[0;32m    111\u001b[0m sleep(\u001b[39m1\u001b[39m)\n\u001b[1;32m--> 112\u001b[0m craw_1()\n\u001b[0;32m    113\u001b[0m offset \u001b[39m+\u001b[39m\u001b[39m=\u001b[39m \u001b[39m800\u001b[39m\n\u001b[0;32m    114\u001b[0m driver\u001b[39m.\u001b[39mexecute_script(\u001b[39mf\u001b[39m\u001b[39m'''\u001b[39m\n\u001b[0;32m    115\u001b[0m \u001b[39m    window.scrollTo(\u001b[39m\u001b[39m{{\u001b[39;00m\n\u001b[0;32m    116\u001b[0m \u001b[39m        top: \u001b[39m\u001b[39m{\u001b[39;00moffset\u001b[39m}\u001b[39;00m\u001b[39m, \u001b[39m\n\u001b[0;32m    117\u001b[0m \u001b[39m        behavior: \u001b[39m\u001b[39m'\u001b[39m\u001b[39msmooth\u001b[39m\u001b[39m'\u001b[39m\u001b[39m \u001b[39m\n\u001b[0;32m    118\u001b[0m \u001b[39m    \u001b[39m\u001b[39m}}\u001b[39;00m\u001b[39m);\u001b[39m\n\u001b[0;32m    119\u001b[0m \u001b[39m\u001b[39m\u001b[39m'''\u001b[39m)\n",
      "Cell \u001b[1;32mIn [38], line 39\u001b[0m, in \u001b[0;36mcraw_1\u001b[1;34m()\u001b[0m\n\u001b[0;32m     38\u001b[0m \u001b[39mdef\u001b[39;00m \u001b[39mcraw_1\u001b[39m():\n\u001b[1;32m---> 39\u001b[0m     WebDriverWait(driver, \u001b[39m3\u001b[39;49m)\u001b[39m.\u001b[39;49muntil(\n\u001b[0;32m     40\u001b[0m                             EC\u001b[39m.\u001b[39;49mpresence_of_element_located(\n\u001b[0;32m     41\u001b[0m                                 (By\u001b[39m.\u001b[39;49mCSS_SELECTOR, \u001b[39m'\u001b[39;49m\u001b[39m#dcard-comment-anchor > div > div > div.atm_l8_1077ktj.c34rbji > section > div > div > div > div > div > div > div > div >span\u001b[39;49m\u001b[39m'\u001b[39;49m)))\n\u001b[0;32m     42\u001b[0m     \u001b[39mtry\u001b[39;00m:\n\u001b[0;32m     44\u001b[0m         comments \u001b[39m=\u001b[39m driver\u001b[39m.\u001b[39mfind_elements(\n\u001b[0;32m     45\u001b[0m             By\u001b[39m.\u001b[39mCSS_SELECTOR, \u001b[39m'\u001b[39m\u001b[39m#dcard-comment-anchor > div > div > div.atm_l8_1077ktj.c34rbji > section > div > div > div > div > div > div > div > div >span\u001b[39m\u001b[39m'\u001b[39m)\n",
      "File \u001b[1;32mc:\\Users\\Noah\\AppData\\Local\\Programs\\Python\\Python311\\Lib\\site-packages\\selenium\\webdriver\\support\\wait.py:95\u001b[0m, in \u001b[0;36mWebDriverWait.until\u001b[1;34m(self, method, message)\u001b[0m\n\u001b[0;32m     93\u001b[0m     \u001b[39mif\u001b[39;00m time\u001b[39m.\u001b[39mmonotonic() \u001b[39m>\u001b[39m end_time:\n\u001b[0;32m     94\u001b[0m         \u001b[39mbreak\u001b[39;00m\n\u001b[1;32m---> 95\u001b[0m \u001b[39mraise\u001b[39;00m TimeoutException(message, screen, stacktrace)\n",
      "\u001b[1;31mTimeoutException\u001b[0m: Message: \nStacktrace:\nBacktrace:\n\tOrdinal0 [0x0030ACD3+2075859]\n\tOrdinal0 [0x0029EE61+1633889]\n\tOrdinal0 [0x0019B7BD+571325]\n\tOrdinal0 [0x001CAC2F+764975]\n\tOrdinal0 [0x001CAE1B+765467]\n\tOrdinal0 [0x001FD0F2+970994]\n\tOrdinal0 [0x001E7364+881508]\n\tOrdinal0 [0x001FB56A+963946]\n\tOrdinal0 [0x001E7136+880950]\n\tOrdinal0 [0x001BFEFD+720637]\n\tOrdinal0 [0x001C0F3F+724799]\n\tGetHandleVerifier [0x005BEED2+2769538]\n\tGetHandleVerifier [0x005B0D95+2711877]\n\tGetHandleVerifier [0x0039A03A+521194]\n\tGetHandleVerifier [0x00398DA0+516432]\n\tOrdinal0 [0x002A682C+1665068]\n\tOrdinal0 [0x002AB128+1683752]\n\tOrdinal0 [0x002AB215+1683989]\n\tOrdinal0 [0x002B6484+1729668]\n\tBaseThreadInitThunk [0x75A0FA29+25]\n\tRtlGetAppContainerNamedObjectPath [0x77317B5E+286]\n\tRtlGetAppContainerNamedObjectPath [0x77317B2E+238]\n"
     ]
    }
   ],
   "source": [
    "if __name__ == '__main__' :\n",
    "    end_craw()\n",
    "    scroll_D()\n",
    "    btntest()\n",
    "    f_btntest()\n",
    "    finally_scroll()\n",
    "    craw_1()\n",
    "    for i in tmpcomment:\n",
    "        i.replace('','None')\n",
    "        results[0]['內文留言']=results[0]['內文留言']+i"
   ]
  },
  {
   "cell_type": "code",
   "execution_count": 39,
   "metadata": {},
   "outputs": [
    {
     "data": {
      "text/plain": [
       "[{'文章標題': '某代工廠 NB PCC Dell team 、 Lenovo team 選擇',\n",
       "  '發文內容': '想問問板上各大前輩，對於這間公司PCC一職，以上兩個部門的選擇。先前在PTT爬文有看到大家說DELL很操，但是適合新人練功的好地方；但Lenovo NB這塊沒有看到什麼分享，想詢問看看這家的Lenovo Nb team如何，以及在這兩team間會如何做選擇，謝謝大家🥹',\n",
       "  '發文時間': '4月6日 23:30',\n",
       "  '文章標籤': 'Lenovo,Dell,NB',\n",
       "  '愛心數量': '2',\n",
       "  '留言數量': '26',\n",
       "  '內文留言': ''},\n",
       " {'文章標題': '金融時報：美晶片出口管制將中企打回石器時代',\n",
       "  '發文內容': '無法取得網頁資訊www.cna.com.tw（中央社記者陳韻聿倫敦9日專電）美國商務部7日宣布新一波對中國的晶片和半導體技術出口管制，有中國金融業高層稱這是將中方相關產業打回「石器時代」，部份分析家則認為，台灣相關企業或許能漁翁得利。英國「金融時報」（Financial Times）今天報導，約在兩年前，華為首次遭美國嚴厲制裁重擊後營收大減，在市場失去領導地位，創辦人任正非甚至曾告知屬下公司瀕臨生存危機。不過，美方最新一波管制衝擊的是整個中國半導體產業，而不僅是個別企業。現在，使用美國技術生產並應用於人工智慧、高效能運算和超級電腦的半導體產品，僅能在取得政府核發的出口許可後，銷往中國，但取得相關許可十分困難。此外，除非事先取得特別核可，美國政府禁止美國公民或實體與中國的晶片製造商合作。根據7日宣布的措施，美方也嚴加管制晶片製造所需工具和技術的出口，以限制中國發展自己的設備。中國金融集團「華興資本」董事總經理Szeho Ng指出，中國企業「基本上正退回石器時代」，而這還只是「委婉的說法」。顧問公司「歐布萊特石橋集團」（Albright Stonebridge Group）的中國和科技專家崔歐洛（Paul Triolo）說，在這場「席捲半導體及相關產業的海嘯劇變」中，會有「很多輸家」。不過，他提到，儘管需要一段時間才能釐清產業受衝擊程度的完整圖像，但最少可以確定的是，中國和美國的科技創新速度都會放緩，且美國的消費者和企業最終得為此付出數億、甚至數十億美元成本。美國的新管制措施也影響第三國家晶片製造商，因為幾乎所有半導體都是運用美國的軟體設計而成，且多數晶片廠都少不了美國設備。在這篇聯合台北、香港、舊金山、華府、東京和首爾駐地記者撰寫的報導中，「金融時報」援引美國銀行（Bank of America）的分析資料指出，針對生產設備的管制措施將影響國際間過去4至5年設計的邏輯晶片（logic chips），以及2017年以後設計的動態隨機存取記憶體（DRAM）晶片。不過，中國企業更擔心華府限制美國公民與中方合作。在一家獲官方支持的半導體廠，一名人力資源部門行政主管透露，人事相關限制對中方的衝擊比設備採購禁令還大。這名主管告訴「金融時報」，在她服務的公司就有位居要職的美國公民，他們是技術開發的「核心武器」。公司會想辦法讓他們留下來，但這名主管坦承，這十分困難，因為多數人不願放棄美國護照。「金融時報」指出，中國晶片產業僱用的多數美國公民是來自美國的中國與台灣裔人士。一名台灣情報單位官員評估，約200名持有美國護照的台灣人在中國半導體相關企業任職。報導提到，若計算終端消費者，中國的半導體市場目前滿足近1/4的全球需求，因此美國的管制措施也將衝擊外國供應商。美國的晶片設備製造商「應用材料」（Applied Materials）及「科林研發」（Lam Research）去年分別有33%及31%銷售額源自中國。此外，總部位於美國加州的全球半導體業巨擘英特爾公司（Intel）供應許多用於中國超級電腦的高階處理器。美國銀行評估，新出口管制措施將衝擊英特爾高達10%的銷售。儘管如此，部份分析家認為，新措施對中國以外的晶片製造商有利，台積電、英特爾，以及日本、韓國的相關領域企業都可以是潛在受益者，雖然受益程度可能有別。報導指出，最關鍵的仍是中方如何回應。一名在北京的產業消息人士告訴「金融時報」，「我們處於一個負面循環」：美國持續推動限制措施，這迫使中國進一步尋求技術自主，美國因此必須回應、推出更嚴厲管制。北京的籌碼有限，因為取代美國技術的選項落後數十年，但這恐導致中國盜取智慧財產的情況加劇。報導指出，部分被美方納入出口管制的設備已位於中國境內，中方可以不理會智慧財產權，對相關機械設備進行「逆向工程」，在破解其設計後用於強化本地製造商。英國的科技市場分析顧問公司CCS Insight 分析師Wayne Lam指出，「我們可能正拿槍射自己的腳」。（編輯：高照芬）1111009',\n",
       "  '發文時間': '10月9日 23:34',\n",
       "  '文章標籤': '晶片,出口,中美貿易戰,英國,科技業',\n",
       "  '愛心數量': '2',\n",
       "  '留言數量': '0',\n",
       "  '內文留言': ''}]"
      ]
     },
     "execution_count": 39,
     "metadata": {},
     "output_type": "execute_result"
    }
   ],
   "source": [
    "results"
   ]
  },
  {
   "cell_type": "code",
   "execution_count": 34,
   "metadata": {},
   "outputs": [],
   "source": [
    "def com_app():\n",
    "    for i in tmpcomment:\n",
    "        i.replace('','None')\n",
    "        results[0]['內文留言']=results[0]['內文留言']+i\n"
   ]
  },
  {
   "cell_type": "code",
   "execution_count": 33,
   "metadata": {},
   "outputs": [
    {
     "data": {
      "text/plain": [
       "''"
      ]
     },
     "execution_count": 33,
     "metadata": {},
     "output_type": "execute_result"
    }
   ],
   "source": [
    "results[0]['內文留言']"
   ]
  },
  {
   "cell_type": "code",
   "execution_count": 39,
   "metadata": {},
   "outputs": [],
   "source": [
    "end_craw()"
   ]
  },
  {
   "cell_type": "code",
   "execution_count": 41,
   "metadata": {},
   "outputs": [],
   "source": [
    "start=1\n",
    "end=0"
   ]
  },
  {
   "cell_type": "code",
   "execution_count": 46,
   "metadata": {},
   "outputs": [],
   "source": []
  },
  {
   "cell_type": "code",
   "execution_count": 25,
   "metadata": {},
   "outputs": [],
   "source": []
  },
  {
   "cell_type": "code",
   "execution_count": 57,
   "metadata": {},
   "outputs": [
    {
     "name": "stdout",
     "output_type": "stream",
     "text": [
      "C:/Users/student/python_web_scraping-master/Dcard/Dcard_V1.json\n"
     ]
    }
   ],
   "source": [
    "print((f'{folderPath_w}{filename_innerText}.json'))"
   ]
  },
  {
   "cell_type": "code",
   "execution_count": null,
   "metadata": {},
   "outputs": [],
   "source": [
    "\n",
    "df = pd.read_json(f'{folderPath_w}{filename_innerText}.json')\n",
    "df.to_csv(f'{folderPath_w}{filename_innerText}'+'.csv',\n",
    "            index=None, encoding=\"utf_8_sig\")"
   ]
  },
  {
   "cell_type": "code",
   "execution_count": 20,
   "metadata": {},
   "outputs": [],
   "source": []
  },
  {
   "cell_type": "code",
   "execution_count": 26,
   "metadata": {},
   "outputs": [],
   "source": [
    "def btntest():\n",
    "    btn=driver.find_elements(By.CSS_SELECTOR,'#dcard-comment-anchor > div > div > div.atm_l8_1077ktj.c34rbji > section > div > div > div > div > div > button')\n",
    "\n",
    "    for i in range(len(btn)):\n",
    "        try:\n",
    "            pattern = re.compile(r'查看其他 \\d+ 則留言+')\n",
    "            results = pattern.findall(bbb)\n",
    "            if results == pattern.findall(bbb) :\n",
    "                print(True)\n",
    "            btn[i].click()\n",
    "            sleep(2)\n",
    "            test()\n",
    "        except:\n",
    "            continue"
   ]
  },
  {
   "cell_type": "code",
   "execution_count": 8,
   "metadata": {},
   "outputs": [],
   "source": []
  },
  {
   "cell_type": "code",
   "execution_count": 12,
   "metadata": {},
   "outputs": [
    {
     "name": "stdout",
     "output_type": "stream",
     "text": [
      "查看其他 1 則留言\n",
      "隱藏留言\n"
     ]
    }
   ],
   "source": []
  },
  {
   "cell_type": "code",
   "execution_count": 10,
   "metadata": {},
   "outputs": [],
   "source": []
  },
  {
   "cell_type": "code",
   "execution_count": 23,
   "metadata": {},
   "outputs": [],
   "source": []
  },
  {
   "cell_type": "code",
   "execution_count": 55,
   "metadata": {},
   "outputs": [
    {
     "data": {
      "text/plain": [
       "'None'"
      ]
     },
     "execution_count": 55,
     "metadata": {},
     "output_type": "execute_result"
    }
   ],
   "source": [
    "HC_totals='None','None'\n",
    "HC_totals[0]"
   ]
  },
  {
   "cell_type": "code",
   "execution_count": 59,
   "metadata": {},
   "outputs": [],
   "source": [
    "def end_craw():\n",
    "    title = driver.find_element(\n",
    "        By.CSS_SELECTOR, 'div > h1').get_attribute('innerText')\n",
    "    # 內文\n",
    "    txt = driver.find_element(By.CSS_SELECTOR, 'article > div.atm_lo_c0ivcw.atm_le_1ad2xrm.cgmw135 > div > div').get_attribute(\n",
    "        'innerText').replace('\\n', '')\n",
    "    date = driver.find_element(\n",
    "        By.CSS_SELECTOR, ' div.atm_c8_3rwk2t.atm_9s_1txwivl.atm_h_1h6ojuz.atm_h3_1fwxnve.i1ym7go5 > div:nth-child(2)').get_attribute('innerText')\n",
    "\n",
    "    try:\n",
    "        HC_total = driver.find_element(\n",
    "            By.XPATH, '//*[@id=\"__next\"]/div[2]/div[2]/div/div/div/div/div[5]/div/div/div[1]').get_attribute('innerText')\n",
    "        HC_totals = HC_total.replace('\\n', ' ').split(' ')\n",
    "    except: \n",
    "        HC_total=driver.find_element(By.XPATH,'//*[@id=\"__next\"]/div[2]/div[2]/div/div/div/div/div[6]/div/div/div[1]').get_attribute('innerText')\n",
    "        HC_totals = HC_total.replace('\\n', ' ').split(' ')\n",
    "    try:\n",
    "        tickets = driver.find_element(\n",
    "            By.CSS_SELECTOR, '#__next > div  div:nth-child(4) > div > ul').get_attribute('innerText')\n",
    "        ticket = tickets.replace('\\n', ',')\n",
    "    except:\n",
    "        print('ticket沒標籤')\n",
    "        ticket = 'None'\n",
    "    result = {\n",
    "        '文章標題': title,\n",
    "        '發文內容': txt,\n",
    "        '發文時間': date,\n",
    "        '文章標籤': ticket,\n",
    "        '愛心數量': HC_totals[0],\n",
    "        '留言數量': HC_totals[-1],\n",
    "        '內文留言': ''\n",
    "    }\n",
    "    # tmp.add(result)\n",
    "    results.append(result)\n"
   ]
  },
  {
   "cell_type": "code",
   "execution_count": 15,
   "metadata": {},
   "outputs": [],
   "source": [
    "results={'hellO':'HE'}"
   ]
  },
  {
   "cell_type": "code",
   "execution_count": 18,
   "metadata": {},
   "outputs": [],
   "source": [
    "import json\n",
    "import pandas as pd"
   ]
  },
  {
   "cell_type": "code",
   "execution_count": null,
   "metadata": {},
   "outputs": [],
   "source": [
    "\n",
    "folderPath_w = 'C:/Users/student/python_web_scraping-master/Dcard/'\n",
    "filename_innerText = 'Dcard_V1'"
   ]
  },
  {
   "cell_type": "code",
   "execution_count": 28,
   "metadata": {},
   "outputs": [],
   "source": [
    "folderPath_w = 'C:/Selenium/dcard/'\n",
    "filename_innerText = 'Dcard_V1'"
   ]
  },
  {
   "cell_type": "code",
   "execution_count": 29,
   "metadata": {},
   "outputs": [],
   "source": [
    "def savejson():\n",
    "    with open(f'{folderPath_w}{filename_innerText}'+'.json', \"w\", encoding='utf-8') as file:\n",
    "        file.write(json.dumps(\n",
    "            results, ensure_ascii=False, indent=4))\n",
    "    print(\"檔案\", filename_innerText, \"存好了\")\n",
    "\n",
    "    df = pd.read_json(f'{folderPath_w}{filename_innerText}.json')\n",
    "    df.to_csv(f'{folderPath_w}{filename_innerText}'+'.csv',\n",
    "              index=None, encoding=\"utf_8_sig\")\n"
   ]
  },
  {
   "cell_type": "code",
   "execution_count": 30,
   "metadata": {},
   "outputs": [
    {
     "name": "stdout",
     "output_type": "stream",
     "text": [
      "檔案 Dcard_V1 存好了\n"
     ]
    }
   ],
   "source": [
    "savejson()"
   ]
  }
 ],
 "metadata": {
  "kernelspec": {
   "display_name": "Python 3.11.0 64-bit",
   "language": "python",
   "name": "python3"
  },
  "language_info": {
   "codemirror_mode": {
    "name": "ipython",
    "version": 3
   },
   "file_extension": ".py",
   "mimetype": "text/x-python",
   "name": "python",
   "nbconvert_exporter": "python",
   "pygments_lexer": "ipython3",
   "version": "3.11.0"
  },
  "orig_nbformat": 4,
  "vscode": {
   "interpreter": {
    "hash": "3ad8059b2bc2a060cdcab62ddbbac7ba99d9af6ed9b237ea5a2b56c1b0a1720e"
   }
  }
 },
 "nbformat": 4,
 "nbformat_minor": 2
}
