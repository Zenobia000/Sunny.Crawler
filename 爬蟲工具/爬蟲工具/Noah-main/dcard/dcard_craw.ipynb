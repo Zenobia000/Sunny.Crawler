{
 "cells": [
  {
   "cell_type": "code",
   "execution_count": 76,
   "metadata": {},
   "outputs": [],
   "source": [
    "from selenium import webdriver\n",
    "from selenium.webdriver.chrome.service import Service\n",
    "from webdriver_manager.chrome import ChromeDriverManager\n",
    "from selenium.common.exceptions import TimeoutException\n",
    "from selenium.webdriver.support.ui import WebDriverWait\n",
    "from selenium.webdriver.support import expected_conditions as EC\n",
    "from selenium.webdriver.common.by import By\n",
    "from time import sleep\n",
    "import json\n",
    "import pandas as pd\n",
    "\n",
    "# 啟動瀏覽器工具的選項\n",
    "my_options = webdriver.ChromeOptions()\n",
    "# my_options.add_argument(\"--headless\")                #不開啟實體瀏覽器背景執行\n",
    "my_options.add_argument(\"--start-maximized\")  # 最大化視窗\n",
    "my_options.add_argument(\"--incognito\")  # 開啟無痕模式\n",
    "my_options.add_argument(\"--disable-popup-blocking\")  # 禁用彈出攔截\n",
    "my_options.add_argument(\"--disable-notifications\")  # 取消 chrome 推播通知\n",
    "my_options.add_argument(\"--lang=zh-TW\")  # 設定為正體中文\n",
    "\n",
    "\n",
    "driver = webdriver.Chrome(\n",
    "    options = my_options,\n",
    "    service = Service(ChromeDriverManager().install())\n",
    ")\n"
   ]
  },
  {
   "cell_type": "code",
   "execution_count": 62,
   "metadata": {},
   "outputs": [],
   "source": [
    "import time"
   ]
  },
  {
   "cell_type": "code",
   "execution_count": 77,
   "metadata": {},
   "outputs": [],
   "source": [
    "url='https://www.dcard.tw/f/tech_job'"
   ]
  },
  {
   "cell_type": "code",
   "execution_count": 8,
   "metadata": {},
   "outputs": [],
   "source": [
    "results = []\n",
    "alinks = []\n",
    "atitle = []\n",
    "plink_ptitle = []\n"
   ]
  },
  {
   "cell_type": "code",
   "execution_count": 80,
   "metadata": {},
   "outputs": [],
   "source": [
    "\n",
    "def links():\n",
    "    links = driver.find_elements(By.CSS_SELECTOR, '  article > h2 > a')\n",
    "    for link in links:\n",
    "        plink = link.get_attribute('href')\n",
    "        ptitle = link.get_attribute('innerText')\n",
    "        rr = {\n",
    "            ptitle: plink\n",
    "        }\n",
    "        plink_ptitle.append(rr)\n",
    "        alinks.append(plink)\n",
    "        atitle.append(ptitle)\n"
   ]
  },
  {
   "cell_type": "code",
   "execution_count": 53,
   "metadata": {},
   "outputs": [],
   "source": []
  },
  {
   "cell_type": "code",
   "execution_count": 83,
   "metadata": {},
   "outputs": [
    {
     "ename": "AttributeError",
     "evalue": "'WebDriver' object has no attribute 'find_elements_by_class_name'",
     "output_type": "error",
     "traceback": [
      "\u001b[1;31m---------------------------------------------------------------------------\u001b[0m",
      "\u001b[1;31mAttributeError\u001b[0m                            Traceback (most recent call last)",
      "Cell \u001b[1;32mIn [83], line 9\u001b[0m\n\u001b[0;32m      7\u001b[0m \u001b[39mfor\u001b[39;00m now_time \u001b[39min\u001b[39;00m \u001b[39mrange\u001b[39m(\u001b[39m1\u001b[39m, scroll_time\u001b[39m+\u001b[39m\u001b[39m1\u001b[39m):\n\u001b[0;32m      8\u001b[0m     sleep(\u001b[39m2\u001b[39m)\n\u001b[1;32m----> 9\u001b[0m     eles \u001b[39m=\u001b[39m driver\u001b[39m.\u001b[39;49mfind_elements_by_class_name(\u001b[39m'\u001b[39m\u001b[39mtgn9uw-0\u001b[39m\u001b[39m'\u001b[39m)\n\u001b[0;32m     10\u001b[0m     \u001b[39m# 若串列中存在上一次的最後一個元素，則擷取上一次的最後一個元素到當前最後一個元素進行爬取\u001b[39;00m\n\u001b[0;32m     11\u001b[0m     \u001b[39mtry\u001b[39;00m:\n\u001b[0;32m     12\u001b[0m         \u001b[39m# print(eles)\u001b[39;00m\n\u001b[0;32m     13\u001b[0m         \u001b[39m# print(prev_ele)\u001b[39;00m\n",
      "\u001b[1;31mAttributeError\u001b[0m: 'WebDriver' object has no attribute 'find_elements_by_class_name'"
     ]
    }
   ],
   "source": [
    "\n",
    "if __name__ == '__main__':\n",
    "    scroll_time = int(input('請輸入想要捲動幾次'))\n",
    "    driver = webdriver.Chrome()\n",
    "    driver.get('https://www.dcard.tw/f/tech_job')\n",
    "    results = []\n",
    "    prev_ele = None\n",
    "    for now_time in range(1, scroll_time+1):\n",
    "        sleep(2)\n",
    "        eles = driver.find_elements_by_class_name('tgn9uw-0')\n",
    "        # 若串列中存在上一次的最後一個元素，則擷取上一次的最後一個元素到當前最後一個元素進行爬取\n",
    "        try:\n",
    "            # print(eles)\n",
    "            # print(prev_ele)\n",
    "            eles = eles[eles.index(prev_ele):]\n",
    "        except:\n",
    "            pass\n",
    "        for ele in eles:\n",
    "            try:\n",
    "                title = ele.find_element_by_class_name('tgn9uw-3').text\n",
    "                href = ele.find_element_by_class_name(\n",
    "                    'tgn9uw-3').get_attribute('href')\n",
    "                subtitle = ele.find_element_by_class_name('tgn9uw-4').text\n",
    "                result = {\n",
    "                    'title': title,\n",
    "                    'href': href,\n",
    "                    'subtitle': subtitle\n",
    "                }\n",
    "                results.append(result)\n",
    "            except:\n",
    "                pass\n",
    "        prev_ele = eles[-1]\n",
    "        print(f\"now scroll {now_time}/{scroll_time}\")\n",
    "        js = \"window.scrollTo(0, document.body.scrollHeight);\"\n",
    "        driver.execute_script(js)\n",
    "    with open('Dcard-articles.json', 'w', encoding='utf-8') as f:\n",
    "        json.dump(results, f, indent=2,\n",
    "                  sort_keys=True, ensure_ascii=False)\n",
    "    driver.quit()"
   ]
  },
  {
   "cell_type": "code",
   "execution_count": 81,
   "metadata": {},
   "outputs": [],
   "source": [
    "links()"
   ]
  },
  {
   "cell_type": "code",
   "execution_count": 82,
   "metadata": {},
   "outputs": [
    {
     "data": {
      "text/plain": [
       "20"
      ]
     },
     "execution_count": 82,
     "metadata": {},
     "output_type": "execute_result"
    }
   ],
   "source": [
    "len(alinks)"
   ]
  }
 ],
 "metadata": {
  "kernelspec": {
   "display_name": "Python 3.11.0 64-bit",
   "language": "python",
   "name": "python3"
  },
  "language_info": {
   "codemirror_mode": {
    "name": "ipython",
    "version": 3
   },
   "file_extension": ".py",
   "mimetype": "text/x-python",
   "name": "python",
   "nbconvert_exporter": "python",
   "pygments_lexer": "ipython3",
   "version": "3.11.0"
  },
  "orig_nbformat": 4,
  "vscode": {
   "interpreter": {
    "hash": "3ad8059b2bc2a060cdcab62ddbbac7ba99d9af6ed9b237ea5a2b56c1b0a1720e"
   }
  }
 },
 "nbformat": 4,
 "nbformat_minor": 2
}
