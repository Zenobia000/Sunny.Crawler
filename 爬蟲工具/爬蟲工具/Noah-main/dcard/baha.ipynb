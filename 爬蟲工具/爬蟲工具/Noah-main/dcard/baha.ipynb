{
 "cells": [
  {
   "cell_type": "code",
   "execution_count": 1,
   "metadata": {},
   "outputs": [],
   "source": [
    "from selenium import webdriver\n",
    "from selenium.webdriver.chrome.service import Service\n",
    "from webdriver_manager.chrome import ChromeDriverManager\n",
    "from selenium.common.exceptions import TimeoutException\n",
    "from selenium.webdriver.support.ui import WebDriverWait\n",
    "from selenium.webdriver.support import expected_conditions as EC\n",
    "from selenium.webdriver.common.by import By\n",
    "from time import sleep\n",
    "import json\n",
    "import pandas as pd\n",
    "\n",
    "# 啟動瀏覽器工具的選項\n",
    "my_options = webdriver.ChromeOptions()\n",
    "# my_options.add_argument(\"--headless\")                #不開啟實體瀏覽器背景執行\n",
    "my_options.add_argument(\"--start-maximized\")  # 最大化視窗\n",
    "my_options.add_argument(\"--incognito\")  # 開啟無痕模式\n",
    "my_options.add_argument(\"--disable-popup-blocking\")  # 禁用彈出攔截\n",
    "my_options.add_argument(\"--disable-notifications\")  # 取消 chrome 推播通知\n",
    "my_options.add_argument(\"--lang=zh-TW\")  # 設定為正體中文\n",
    "\n",
    "\n",
    "driver = webdriver.Chrome(\n",
    "    options = my_options,\n",
    "    service = Service(ChromeDriverManager().install())\n",
    ")\n"
   ]
  },
  {
   "cell_type": "code",
   "execution_count": 2,
   "metadata": {},
   "outputs": [],
   "source": [
    "# driver.get('https://forum.gamer.com.tw/B.php?page=1&bsn=60561')\n",
    "page1='https://forum.gamer.com.tw/B.php?page='\n",
    "page2='&bsn=60561'\n",
    "###\n",
    "page_head='https://forum.gamer.com.tw/'"
   ]
  },
  {
   "cell_type": "code",
   "execution_count": 3,
   "metadata": {},
   "outputs": [],
   "source": [
    "alinks=[]"
   ]
  },
  {
   "cell_type": "code",
   "execution_count": 4,
   "metadata": {},
   "outputs": [],
   "source": [
    "#爬取連結\n",
    "def insertlink():\n",
    "    post_links=driver.find_elements(By.CSS_SELECTOR,'#BH-master > form > div > table > tbody > tr> td.b-list__main > a > div.imglist-text > div > p')\n",
    "\n",
    "    for link in post_links:\n",
    "        a=link.get_attribute('href')\n",
    "        alinks.append(page_head+a)"
   ]
  },
  {
   "cell_type": "code",
   "execution_count": 5,
   "metadata": {},
   "outputs": [],
   "source": [
    "#職場甘苦談分頁+爬取分頁下的貼文連結\n",
    "page=int(input('請輸入要爬幾頁'))+1\n",
    "for i in range(1,int(page)):\n",
    "    url=page1+str(i)+page2\n",
    "    driver.get(url)\n",
    "    insertlink()"
   ]
  },
  {
   "cell_type": "code",
   "execution_count": 6,
   "metadata": {},
   "outputs": [],
   "source": [
    "#進去貼文連結\n",
    "len(alinks)\n",
    "for i in range(2):\n",
    "    driver.get(alinks[i])"
   ]
  },
  {
   "cell_type": "code",
   "execution_count": 58,
   "metadata": {},
   "outputs": [
    {
     "name": "stdout",
     "output_type": "stream",
     "text": [
      "【心得】做快五年技術員轉職寫Python 工程師兩年心得。\n",
      "推214\n",
      "如果你有考慮轉職當程式工程師我建議你放棄吧。我沒開玩笑真的很難!我認為成功的案例都是少數的，失敗的案例很多。我從小不愛讀書，基測188分(滿分412)、學測31分、統測300分初，以下文章內容標點符號與文法不好請見諒。前言有點吃運氣，畢竟要從學習中找到樂趣才學得快，身邊有幾位朋友曾經想轉職工程師，他們覺得可以賺多一點錢，但最後結果都失敗了，因為他們不知道要用程式做什麼東西出來。個人背景年齡: 28 (1994年)。學歷: 學店 資訊管理系 (不會寫程式、不知道什麼是資料庫 SQL、有錢就能讀)。經驗: 1年手搖工讀、4年9個月技術員。英文程度: 初檢都考不到。轉職原因當初是看大學隔壁班同學轉職成功心裡想著他可以為什麼我不行的心態離職了4年9個月的技術員工作。學習經歷我只是看到同學轉職成功就直接果斷離職了，完全沒有規劃未來要學什麼程式語言。2019/05月基本上是玩了一個月，翻開以前大學時的 Linux 書與 C# 書也完全不知道怎麼學習，網路上查了一下看到 PHP 寫網頁比較普遍，於是打算學 PHP 時有個網友建議我學 Python 也願意教我，於是這位網友成了我的恩人。2019/06月 ~ 2019/08月學了一點基本語法 if for while 比較運算符後就直接刷題，比起用看的不如刷題提升我對程式的熟悉度。但我刷的題目不是 Leetcode 是 Codesignal。下圖是我從6月中開始刷到8月底的成果。最久一天寫 8小時的程式碼，但假日基本上在玩遊戲。除了刷題還有學習一點爬蟲，嘗試做些爬蟲預覽資料的小程式。2019/09月報名了政府 AI 班 Tibame，我的恩人也感興趣於是跟著我一起報名去參加課程。2019/11月 ~ 2020/03月結訓後也不會 AI(太難了)，學了 QT + 更熟練爬蟲 + 認識朋友。找不到工作。2020/04 ~ 2020/08跟恩人+專題夥伴1位嘗試創業，結果不如預期就各自飛了。2020/09基本上已經快放棄寫程式想回去做作業員了，當時真的很難過...畢竟已經一年多都沒工作了。好險在月中幸運找到一份剛創立的軟體部門，不然我可能已經不寫程式了。工作經歷當時面試以為不會錄取，後來詢問主管為什麼要錄取我，主管說在寫筆試的時候回答得很快覺得我真的有心在 Python 上學習才決定錄取我的。2020/10/ ~ 2022/07 產業類別: 傳產軟體部門薪水 35000 -> 38000 -> 43000 -> 50000後來有餐費輔助 +1200薪水 36200 -> 39200 -> 44200 -> 51200工時: 實際工作 2 ~ 6 小時左右、週休二日、見紅就休、準時下班。在職期間有面試其他公司，有錄取的公司其中一個是宏碁。薪水分別是 40000、45000、55000(試用期後60000)、42000。2022/07 ~ 現在 產業類別: 某個連鎖店薪水 55000 -> 62000工時: 實際工作 3 ~ 6 小時左右、週休二日、見紅就休、準時下班。第一個月後的考核訪談時跟主管說我想離職了。9月初人事經理告知我提前轉正職(3個月試用期)並加薪7000$。如何自學看 Youtueb 教學影片、刷題。作品準備將自己興趣事物嘗試做成程式。如果還是不知道要做什麼，就找社會上看到的一些網站或店家APP做來當作品。幫主管面試人的經驗我現在待過的這兩家公司主管都請我去面試別人，所以我也看了30個左右的履歷了。以下是我面試人通過一面的條件，但我不是專業的只是負責出考題與問 Python 問題。1.程式碼有沒有排版與變數命名。大多學 Python 的都是用 vscode 起手學，所以我遇過大部分的人都不會依照 PEP8 規範 ，我遇到的9成都是不排版的，頂多變數加空白，真的很傷我的眼睛。我好像罹患了程式碼潔癖癌症，所以不想跟不遵守規範的人共事。2.有沒有 Github。最簡單可以了解面試者的一定的程度。我會看 Repo 專案，如果有用到物件導向(繼承、封裝、多型)會加分。3.有沒有刷 Leetcode。我遇過有刷 Leetcode的人確實在面試時遇到考題都答得很好。有些人不會附上 Leetcode，但通常有附上 Github 的我都會把帳號丟到 Leetcode 上查查看有沒有紀錄。找 Python 工程師職缺的人該準備什麼?我面試了2X個 Python 工程師只有5%的在我心中有過關，基本能力的大概10%，其餘都被我退掉了。基本語法一定要熟練基本語法，我自己在面試公司的時候很喜歡被考白板題，所以我面試別人也會考別人白板題，所以沒有編輯器就寫不出程式的我心裡想請面試者回家了。class 一定要會! (繼承、封裝、多型)大部分的面試者都會回答我，因為以前沒用過或者以前的工作沒用過，但我通常遇到不會 class 我心裡想請面試者回家了。解決問題自我解決問題的能力很重要，初期大部分的人都是用中文關鍵字搜尋，過了初期後必須學會英文關鍵字搜尋與看官方文檔。官方文檔通常都是英文的，但是使用右鍵翻譯就能很多問題都能解決。我現在找答案都是先打英文搜尋，但也有遇過打英文找不到結果打中文才找到的，可能我英文關鍵字下不好。(我不會英文)職場上遇過一些我覺得很無言的事情1.前端寫了一個多月的功能，因為寫太久主管私底下請我做做看，要我評估多久能寫完現在前端寫的功能，最後我一天初就寫完了。2.同事因為會忘記一些公司的事情，所以會寫備忘錄做紀錄後上傳到 Github，結果 Github 設定公開，公司的機密都看光光了太厲害了這個同事!3.面試出的回家考題請別人代寫，錄取後三個月因為實力真的太差自己離職了。4.面試遇到挺多資工碩士畢業的結果什麼都不會或者能力不好，我跟同事與主管都懷疑這些人怎麼畢業的。建議現在技術一直進步，如果不是天才最好下班或假日花一點時間精進自己的技術與知識。每天刷一題 Leetcode(不一定需要)如果轉職沒學歷作品經歷，可以考慮刷 Leetcode 至少可以放到履歷上。我現在每日至少一題，如果解不來看了答案也不懂就刷一題 Easy。雖然職場實作中基本上不會遇到 Leetcode 的題目問題，但是在解題過程可以看其他人的解法，可以學到一些新邏輯與套件的使用方法。每一年規劃要學習的技術第一年自學 Django Restframework、 Vue(但還是不熟)、React(還是不會)、Docker。第二年自學 Kafka、Vue2 3 (熟到教前端寫 JS 與 Vue)、FastApi。今年要學 K8s + 英文補強。每一年至少做一個 side project。第一年都在忙上班的東西，只有用 React + Django 做了一個小小的專案。第二年自學 Vue3 後與Django Restframe 寫了一個前後端分離的東西出來玩，從中我也學了不少小技巧與開發設計架構的問題今年挑戰新學 FastApi + Vue2 + Vuetify 做了一個與第一份公司相似的作品(完成一半了)。從零開始學習到刷 Leetcode 過程與心得我一開始刷題網站是 Codesignal，遇到不會或看不懂問題時就會問我的恩人怎麼解決。不過我在刷 Codesignal 的過程中有聽說業界比較會看 Leetcode ，但因為 Leetcode 的題目都是 class 寫法，所以我就放棄刷 Leetcode 了。這段刷題時間我的程度大概只是會寫 function 以及基本語法而已。參加 AI 班後我的團隊組員教我 class 的使用方法後，我才開始刷 Leetcode，不過也才刷幾題而已，因為都在做專題與找工作或做作品。有次我去面試一家公司，筆試題目只有一題是 Leetcode 的第一題 two-sum，我只會用最笨的方式去解題，最終當然沒錄取而且我當天面試完很難過，因為這題並不難只是我沒想到最佳解而已。後來我在第一家公司面試某個中X大學資工系剛畢業的學生，這個學生在履歷上放了 Leetcode 的個人資料，點下去後看到了刷了8百多題，而且在面試過程中除了框架與異步這類偏實戰的問題沒有經驗所以回答不出來以外，所有考題加我當下額外臨時想的問題都有答出來。從那天開始我就開始刷 Leetcode 直到刷到4百題後才變成一天至少刷一題，其餘時間都在寫新作品或學其他技術。我現在刷 Leetcode 的方法看了題目不懂或是無法了解題目想或是沒想到解法 -> 看討論區解法。花了半小時左右差一點或者解不出來 -> 看討論區解法。如果討論區的解法有看懂，之後也能自己寫出來就會 submit。如果看了還是不懂就下一題。不過有些題目是看討論區當下了解後會寫解法，但過了一段時間如果要我解一次，我可能會寫不出來就是了。結語轉職真的會身心疲倦，某些人想努力但卻不知道該怎麼努力，最後只好放棄，我是運氣好有恩人幫我入門，但還是花了很長的時間加上心理快崩潰才轉職成功，尤其沒學歷也不會英文也沒作品。白色是我，紅色是我恩人。奉勸想轉職的各位也能想清楚再決定。轉職現在年薪80左右，比不上許多頂校的學霸，畢竟我已經玩了半個人生了也不是讀書的料，只能花大量下班與假日時間去追趕，但我現在很開心，感覺我真的有機會獲得年薪百萬的成就。只要願意花時間成果最終會是甜的。以下是我的 Leetcode 2022/11/16，但不是全部都靠自己寫出來的。我為了找第一份工作而寫的專案(2020/8初至今)累積1百多顆星星。這是公開的專案，在 Google 打關鍵字就能看到了，但我的 Github 有我的個人資料所以貼遮蔽圖。順帶一提，嘗試創業的恩人與專題夥伴現在年薪140、120。有什麼想問的都可以問，寄信私聊也可以，下班假日有空就會回。 214 -回覆\n"
     ]
    }
   ],
   "source": [
    "#內文\n",
    "\n",
    "title = driver.find_element(By.CSS_SELECTOR,'#post_173618 > div.c-section__main.c-post > div.c-post__header > h1').get_attribute('innerText')\n",
    "print(title)\n",
    "push = driver.find_element(By.CSS_SELECTOR,'div.c-post__header > div.c-post__header__author > div > span.postgp').get_attribute('innerText')\n",
    "print(push)\n",
    "post_txt = driver.find_element(By.CSS_SELECTOR,'#post_173618 > div.c-section__main.c-post > div.c-post__body').get_attribute('innerText').replace('\\n','')\n",
    "# print(post_txt)\n",
    "\n"
   ]
  },
  {
   "cell_type": "code",
   "execution_count": null,
   "metadata": {},
   "outputs": [],
   "source": [
    "\n",
    "driver.find_element(By.CSS_SELECTOR,'div > div > article > span').get_attribute('innerText')"
   ]
  }
 ],
 "metadata": {
  "kernelspec": {
   "display_name": "Python 3.11.0 64-bit",
   "language": "python",
   "name": "python3"
  },
  "language_info": {
   "codemirror_mode": {
    "name": "ipython",
    "version": 3
   },
   "file_extension": ".py",
   "mimetype": "text/x-python",
   "name": "python",
   "nbconvert_exporter": "python",
   "pygments_lexer": "ipython3",
   "version": "3.11.0"
  },
  "orig_nbformat": 4,
  "vscode": {
   "interpreter": {
    "hash": "3ad8059b2bc2a060cdcab62ddbbac7ba99d9af6ed9b237ea5a2b56c1b0a1720e"
   }
  }
 },
 "nbformat": 4,
 "nbformat_minor": 2
}
