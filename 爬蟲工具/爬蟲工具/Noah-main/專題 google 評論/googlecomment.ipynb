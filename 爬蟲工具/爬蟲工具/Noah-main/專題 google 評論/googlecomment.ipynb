{
 "cells": [
  {
   "cell_type": "code",
   "execution_count": null,
   "metadata": {},
   "outputs": [],
   "source": [
    "com=driver.find_elements(By.CSS_SELECTOR,'div > div.jJc9Ad > div:nth-child(4) >div.MyEned')\n",
    "\n",
    "for i in range(len(com)):\n",
    "    com=driver.find_elements(By.CSS_SELECTOR,'div > div.jJc9Ad > div:nth-child(4) >div.MyEned')\n",
    "    comment=com[i].text\n",
    "    result={\n",
    "        '評論':comment.replace('\\n','')\n",
    "        }\n",
    "    rr.append(result)    "
   ]
  }
 ],
 "metadata": {
  "kernelspec": {
   "display_name": "Python 3.10.7 64-bit",
   "language": "python",
   "name": "python3"
  },
  "language_info": {
   "name": "python",
   "version": "3.10.7"
  },
  "orig_nbformat": 4,
  "vscode": {
   "interpreter": {
    "hash": "26de051ba29f2982a8de78e945f0abaf191376122a1563185a90213a26c5da77"
   }
  }
 },
 "nbformat": 4,
 "nbformat_minor": 2
}
