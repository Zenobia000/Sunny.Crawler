{
 "cells": [
  {
   "cell_type": "code",
   "execution_count": 64,
   "metadata": {},
   "outputs": [],
   "source": [
    "from selenium import webdriver\n",
    "from selenium.webdriver.chrome.service import Service\n",
    "from webdriver_manager.chrome import ChromeDriverManager\n",
    "from selenium.common.exceptions import TimeoutException\n",
    "from selenium.webdriver.support.ui import WebDriverWait\n",
    "from selenium.webdriver.support import expected_conditions as EC\n",
    "from selenium.webdriver.common.by import By\n",
    "from time import sleep\n",
    "import undetected_chromedriver as uc\n",
    "import os\n",
    "import subprocess\n",
    "import json\n",
    "import pickle\n",
    "# 啟動瀏覽器工具的選項\n",
    "my_options = webdriver.ChromeOptions()\n",
    "# my_options.add_argument(\"--headless\")                #不開啟實體瀏覽器背景執行\n",
    "my_options.add_argument(\"--start-maximized\")  # 最大化視窗\n",
    "my_options.add_argument(\"--incognito\")  # 開啟無痕模式\n",
    "my_options.add_argument(\"--disable-popup-blocking\")  # 禁用彈出攔截\n",
    "my_options.add_argument(\"--disable-notifications\")  # 取消 chrome 推播通知\n",
    "my_options.add_argument(\"--lang=zh-TW\")  # 設定為正體中文\n",
    "my_options.add_experimental_option('excludeSwitches', ['enable-automation'])\n",
    "my_options.add_argument('--disable-blink-features=AutomationControlled')\n",
    "\n",
    "\n",
    "# 使用 Chrome 的 WebDriver\n",
    "driver = webdriver.Chrome(\n",
    "    options=my_options,\n",
    "    service=Service(ChromeDriverManager().install())\n",
    ")\n"
   ]
  },
  {
   "cell_type": "code",
   "execution_count": 111,
   "metadata": {},
   "outputs": [],
   "source": [
    "from opencc import OpenCC"
   ]
  },
  {
   "cell_type": "code",
   "execution_count": null,
   "metadata": {},
   "outputs": [],
   "source": [
    "# cookies = driver.get_cookies()\n",
    "# pickle.dump(cookies , open(\"redshou.ini\",\"wb\"))\n"
   ]
  },
  {
   "cell_type": "code",
   "execution_count": 32,
   "metadata": {},
   "outputs": [],
   "source": [
    "url='https://www.xiaohongshu.com/website-login/captcha?redirectPath=http%3A%2F%2Fwww.xiaohongshu.com%2Fdiscovery%2Fitem%2F638ec8c5000000001f010eee'"
   ]
  },
  {
   "cell_type": "code",
   "execution_count": 118,
   "metadata": {},
   "outputs": [],
   "source": [
    "results = []\n",
    "alinks = []\n",
    "tmp=set()\n",
    "# driver.get('https://www.xiaohongshu.com/explore')\n",
    "\n",
    "# cookies = pickle.load(open(\"redshou.ini\", \"rb\"))\n",
    "# for cookie in cookies:\n",
    "#     driver.add_cookie(cookie)\n"
   ]
  },
  {
   "cell_type": "code",
   "execution_count": 66,
   "metadata": {},
   "outputs": [],
   "source": [
    "X=driver.find_element(By.CSS_SELECTOR,'#app > div:nth-child(1) > div > div > svg').click()"
   ]
  },
  {
   "cell_type": "code",
   "execution_count": 138,
   "metadata": {},
   "outputs": [],
   "source": [
    "links = driver.find_elements(By.CSS_SELECTOR,'#feedsContainer > section >a ')"
   ]
  },
  {
   "cell_type": "code",
   "execution_count": 139,
   "metadata": {},
   "outputs": [],
   "source": [
    "for i in links:\n",
    "    link=i.get_attribute('href')\n",
    "    tmp.add(link)"
   ]
  },
  {
   "cell_type": "code",
   "execution_count": 140,
   "metadata": {},
   "outputs": [],
   "source": [
    "for i in tmp:\n",
    "    alinks.append(i)"
   ]
  },
  {
   "cell_type": "code",
   "execution_count": 141,
   "metadata": {},
   "outputs": [
    {
     "data": {
      "text/plain": [
       "400"
      ]
     },
     "execution_count": 141,
     "metadata": {},
     "output_type": "execute_result"
    }
   ],
   "source": [
    "len(alinks)"
   ]
  },
  {
   "cell_type": "code",
   "execution_count": null,
   "metadata": {},
   "outputs": [],
   "source": []
  },
  {
   "cell_type": "code",
   "execution_count": 92,
   "metadata": {},
   "outputs": [],
   "source": []
  },
  {
   "cell_type": "code",
   "execution_count": null,
   "metadata": {},
   "outputs": [],
   "source": [
    "for i in range(len(alinks)):\n",
    "    newwindow = 'window.open(\"'+alinks[i]+'\")'\n",
    "    driver.execute_script(newwindow)\n",
    "    # pyautogui.hotkey('ctrl', 'tab', interval=0.1)\n",
    "    sleep(2)"
   ]
  },
  {
   "cell_type": "code",
   "execution_count": 145,
   "metadata": {},
   "outputs": [],
   "source": [
    "def text():\n",
    "    cc = OpenCC('s2tw')\n",
    "\n",
    "    title = driver.find_element(By.CSS_SELECTOR,'div >h1').get_attribute('innerText')\n",
    "    title = cc.convert(title)\n",
    "    post = driver.find_element(By.CSS_SELECTOR,'div > div.left-card > main > div').get_attribute('innerText')\n",
    "\n",
    "    post=post.replace('\\n','')\n",
    "    post = cc.convert(post)\n",
    "\n",
    "    date= driver.find_element(By.CSS_SELECTOR,'div.tags > div > span').get_attribute('innerText')\n",
    "    date = cc.convert(date)\n",
    "\n",
    "    cc = OpenCC('s2tw')\n",
    "    comments= driver.find_elements(By.CSS_SELECTOR,'div.all-tip > div.content > div > p')\n",
    "    txt=[]\n",
    "    for i in comments:\n",
    "        comment= i.get_attribute('innerText')\n",
    "        comment = cc.convert(comment)\n",
    "        txt.append(comment)\n",
    "        \n",
    "    result= {\n",
    "        '文章標題':title,\n",
    "        '文章內容':post,\n",
    "        '發文時間':date,\n",
    "        '評論':txt\n",
    "    }\n",
    "    results.append(result)"
   ]
  },
  {
   "cell_type": "code",
   "execution_count": 144,
   "metadata": {},
   "outputs": [
    {
     "name": "stdout",
     "output_type": "stream",
     "text": [
      "嗨呀 👋新竹的🙋🏻‍♀️\n",
      "新竹人😆😆你好呀\n",
      "北漂臺北的新竹人～（舉手\n",
      "嗨嗨 😻 在臺中\n",
      "居然在這滑到妳～🤣\n"
     ]
    }
   ],
   "source": []
  },
  {
   "cell_type": "code",
   "execution_count": null,
   "metadata": {},
   "outputs": [],
   "source": [
    "for i in range(len(alinks)):\n",
    "    driver.get(alinks[i])\n",
    "    sleep(2)\n",
    "    text()"
   ]
  },
  {
   "cell_type": "code",
   "execution_count": 147,
   "metadata": {},
   "outputs": [
    {
     "data": {
      "text/plain": [
       "[{'文章標題': '共賞',\n",
       "  '文章內容': '哈哈哈哈#dating',\n",
       "  '發文時間': '發佈於 2022-12-04 06:29',\n",
       "  '評論': ['wtf? What kind of crap is this? tell him I dont just sleep with foreign man. I sleep with good looking ones and he obviously dont fit in that category. In fact, he fits perfectly well in my cats litter tray.',\n",
       "   \"Basic pua , obviously came from those foreign man who thinks highly of himself. Fyi he's probably have a virgin fetish\",\n",
       "   'Alex 笑死，我遇到一個很像這個的同名韓國長大的白男',\n",
       "   '@美智子ちゃん🖤 men have the audacity to say that when they sleep even more easily than us ',\n",
       "   '啊？哪裡人，避雷一下']},\n",
       " {'文章標題': '我太會買了！穩如泰山 逛街不累腳！',\n",
       "  '文章內容': '6.5釐米日行八萬裡逛街不累腳的高跟瑪麗珍終於被我找到了！關鍵的關鍵就是太穩了 好好穿，一定要試一試！日常百搭不突兀#筆記靈感 #好穿不累腳 #高跟鞋 #瑪麗珍鞋 #鞋子推薦 #鞋控の日常 #最百搭的鞋',\n",
       "  '發文時間': '發佈於 2022-12-01 17:00',\n",
       "  '評論': ['我買了 又硬 還脫跟 根本不跟腳 我的評論應該都還在',\n",
       "   '妙侶',\n",
       "   '說句實話哈，這雙鞋我有，好看是真的好看，但是高跟鞋的通病還是有的，也不存在說什麼逛街不累腳，就是逛街還是累腳的，就是逛街不磨腳整體的舒適度還可以，他的底是硬的，我覺得可以稍微拍大一個碼子，然後前面墊一個小鞋墊會軟很多',\n",
       "   '蹲一下 一會挨個踢 現在會吞評論',\n",
       "   '新入了個光腿神器 新筆記發了']},\n",
       " {'文章標題': '市面主流相機印象',\n",
       "  '文章內容': '#富士相機 #原相機 #相機分享 #挑戰原相機封神 #各品牌相機',\n",
       "  '發文時間': '發佈於 2022-12-04 11:33',\n",
       "  '評論': ['賓得：這文章我寫的',\n",
       "   '萊卡還有一個系列是12S ULTRA系列，懂得都懂',\n",
       "   '松下的視頻真的無敵',\n",
       "   '適馬：所以都以為我不做機，是吧？',\n",
       "   '醫療']},\n",
       " {'文章標題': '學會這幾個，彩禮少兩萬',\n",
       "  '文章內容': '塊動起來吧，學會了彩禮少兩萬[向右R]#做飯我是認真的 #跟著小紅書學做飯 #家常菜 #超級下飯的家常菜',\n",
       "  '發文時間': '發佈於 2022-11-23 09:52',\n",
       "  '評論': ['那女生學會了彩禮是不是可以多4萬呢',\n",
       "   '學會買菜做飯是保護家人身體健康最好的方法。。給你們推薦一些記錄食品安全、食品添加劑危害的書籍，網上都有。《百年謊言》這本書記錄食品添加劑各種危害，衛生部營養健康教育推薦讀物，北京師範大學出版社出版。《中國居民膳食指南》這本書講應該怎麼吃，是國家推薦的健康飲食。人民衛生出版社。《中國學齡兒童膳食指南》適合兒童飲食。《色香味的陷阱》《挑最自然的吃》《食品真相大揭祕、安部司》《加工食品真相》《生活中的化學》《國內外重大食品安全事件，應急處置與案例分析》《國內外食品安全事件彙編及分析》《寂靜的春天》《屠場》《食品添加劑歷史》',\n",
       "   '@LA',\n",
       "   '@軟耳 想吃不。寶寶。哈哈哈',\n",
       "   '@漂亮的宇宇吖']},\n",
       " {'文章標題': '男友又給我拍照了 這次是分還是不分！！！！',\n",
       "  '文章內容': '在小紅書上無數次經歷了【勸分不勸合】#男友拍照技術 #男朋友拍照 #論男朋友拍照技術 #男朋友給拍照片 #男友拍照 #讓你男朋友給你拍',\n",
       "  '發文時間': '發佈於 2022-11-18 20:35',\n",
       "  '評論': ['除了語氣調度像攝影師 其他tmd沒一點像！！！',\n",
       "   '我要給我老公看，他要是學了反面教材，我就抽他丫的',\n",
       "   '簡直有毒啊我好想學習怎麼拍出奇怪的照片',\n",
       "   '還是分吧～我一口蛋黃餅乾噴出來半塊！哈哈哈哈哈哈哈哈哈哈！',\n",
       "   '後面正片是誰拍的呀，太哇塞了']},\n",
       " {'文章標題': '高音輕鬆上而且不累的唱法！',\n",
       "  '文章內容': '#零基礎學唱歌 \\xa0\\xa0#聲樂技巧 \\xa0\\xa0#唱歌技巧教學 \\xa0\\xa0#吉他彈唱',\n",
       "  '發文時間': '發佈於 2022-12-05 21:57',\n",
       "  '評論': ['我媽問我幹嘛',\n",
       "   '王力宏和林俊杰貌似就是這種唱法',\n",
       "   '我媽說是不是3天沒有打我了',\n",
       "   '老師我喜歡陳奕迅。這個方法能適用嗎？',\n",
       "   '內馬爾狀態？']},\n",
       " {'文章標題': '臺灣大學生',\n",
       "  '文章內容': '🫐✨💗#臺灣 #臺中 #大學生',\n",
       "  '發文時間': '發佈於 2022-11-24 17:50',\n",
       "  '評論': ['超想認識臺灣的朋友。', '在一起？', '慶記', '我也好想認識臺灣大學生啊', '認識一下']},\n",
       " {'文章標題': '⭐️ 被騙緬北的女孩，最慘的結果是什麼？',\n",
       "  '文章內容': '#境外 ##東南亞 #緬北 #緬甸 #柬埔寨 #菲律賓 #高薪 #女孩子 #中國人 #詐騙 #反詐騙 #防詐騙 #騙子 #國家反詐APP #全民反詐',\n",
       "  '發文時間': '發佈於 2022-12-09 09:17',\n",
       "  '評論': ['我記得這是一個諷刺人類喝牛奶🥛的電影，奶牛的一生。',\n",
       "   '這不是電影嗎？變現了還是源於生活？',\n",
       "   '什麼時候把緬北打下來',\n",
       "   '一生氣不就回奶了嗎',\n",
       "   '可是正常媽咪都知道，只要一直哺乳刺激，是不會斷奶的，也不存在要一直生小孩來產奶']},\n",
       " {'文章標題': '不懂就問，車頂這東西是幹嘛的？',\n",
       "  '文章內容': '#萬能的小紅書幫幫我',\n",
       "  '發文時間': '發佈於 2022-11-24 12:31',\n",
       "  '評論': ['這叫做鯊魚鰭，1:可以釋放靜電冬天開車門讓你不容易被電到。2:還具有避雷功能。3:在高速行駛時有效降低風阻係數。4曾強信號。',\n",
       "   '你們不能回答就別回答好吧，天天抖機靈不累麼？',\n",
       "   '雖然，但是，防止小孩誤食',\n",
       "   '分！原因就不說了我趕下一個片場',\n",
       "   '關鍵時刻變成鯊魚']},\n",
       " {'文章標題': '「學識、思考及處事之道」',\n",
       "  '文章內容': '#原神 #艾爾海森▌誨韜諍言 · 艾爾海森學識、思考及處事之道==========「他當然非常聰明，我從不否認這一點。一個如此有才能的人僅僅著眼於真理本身而不將注意力投給更多更廣的人群，實在令人惋惜。或許又是出於某些匪夷所思的個人主義吧，這帶來了不少問題，比如首先他就不怎麼尊重前輩…我不是特指自己。」——卡維-須彌教令院現任書記官。擁有一個聽起來非常厲害的頭銜，不過這也是拜院內起官名好面子之風所賜。書記官一職看似來頭不小，事實上既不跟隨所有重大會議，也不參與核心事務決策，只負責歸檔備份重要資料，沒事根本不需要出面。可正因如此，在紙質書及書面文件一度受到管理的須彌，書記官反而是整個教令院知道最多事情的職能之一。可以說，這一職位與大掌書定位較為相近，人們從來不會否認大掌書身為管理圖書之人最有機會接觸記錄了頂級智慧的書籍。現任教令院書記官艾爾海森完美符合以上標準——沒多少人知道他是誰，他卻知道許多旁人毫不知曉的信息。他不參與任何非必要會議，開會時除必要事項也都是看心情記錄。人們不常把注意力放在他身上，更不知道這位書記官能在一次簡單的會議中察覺到多少細節。一個有能力的人保持低調太久，總會被認為有什麼深藏不露的身份和目的。艾爾海森本人即是對這一切無趣觀點的有力反駁：他足夠優秀，但只是一個普通的教令院職工，在須彌擁有穩定工作和優質房產，過著輕鬆自在的生活。',\n",
       "  '發文時間': '發佈於 2022-12-09 12:51',\n",
       "  '評論': ['海哥！我命運般的阿芙洛狄忒，塞納河畔的春水不及你，保加利亞的玫瑰不及你。你是神靈般的饋贈，你是上帝賜予我拯救我，使我的靈魂受到洗禮與昇華。 你是我黯淡昇華中一束光亮，你是你照亮了我黑暗的生命，你為我黑白的世界填滿色彩，使我得到新生。看到你，我如臨仙境，在厄瓜多爾盪鞦韆，在夏威夷 島衝浪，在清邁放飛天燈，在希臘梅麗薩尼洞泛舟穿梭，在土耳其卡帕多西亞空中漫步。你的一瞥一笑在我心頭舞蹈，我全部的心跳都隨你跳。我飛奔，我猛 跑，我高舉手臂，我歡呼雀躍，我在5號21樓的陽臺跳起探戈。我！愛！你！！！',\n",
       "   '老公你好[doge]勸你10抽入壺不要不識好歹[doge]',\n",
       "   '卡維：\"不怎麼尊重前輩\"\"我不是特指自己\"[doge]',\n",
       "   '無所謂，我老公[玫瑰R]我會強娶出來[玫瑰R]艾爾海森，順利的話我們會結婚，一起去青島吹海風，一起去秦嶺看日出，一起去迪士尼看煙花，去新疆吃烤串，去南京吃烤鴨，去廣州吃早餐，有一個燦爛的餘生，不順利的話不可能不順利',\n",
       "   '艾爾海森！你是摘星崖上悄然綻放的塞西莉亞花；風起地樹下永不停歇的風；果酒湖中馥郁芬芳的流水。你青藍的雙眸像我家鄉的天空，你的聲音如鳴珮環，你的笑容純粹的就像我愛你那顆心 😋😋艾爾海森，我的艾爾海森😋😋']},\n",
       " {'文章標題': '宅家自拍🧏🏻\\u200d♀️',\n",
       "  '文章內容': '上週末的我🧏🏻\\u200d♀️真的閒不下來欸，相簿被自己滿到容量不夠感覺好久沒有這樣好好欣賞自己🖤愛自己，就是接受所有的自我。#小個子 #宅家自拍 #我的宅家日常 #我的自拍分享 #今日份做作自拍',\n",
       "  '發文時間': '發佈於 2022-12-07 17:18',\n",
       "  '評論': ['太會拍了 看不出來小個子', '好美', '怎麼可以這麼好看', '愛了愛了', '很好看']},\n",
       " {'文章標題': '實用性拉滿✅小米手機的隱藏功能太好玩了😍',\n",
       "  '文章內容': \"這8個小米和紅米的隱藏功能你還不知道嗎🤔what's up，今天繼續聊聊小米隱藏功能👀以下8個趕緊碼住，好玩又好用📎祕密口令、小愛視覺、傳送門、萬能遙控、聲控拍照、自動尋找手機、超級變聲、SOS緊急求助#實用數碼技巧分享 #一人一個安卓使用技巧 #小米 #小米手機 #紅米手機 #隱藏功能\",\n",
       "  '發文時間': '發佈於 2022-11-15 11:15',\n",
       "  '評論': ['666', '死亡咒，好東西', '小米', '我看流星雨那個也不錯 挺好看的', '小米']},\n",
       " {'文章標題': '學測-36｜四模存心是來打擊信心的吧',\n",
       "  '文章內容': '（不知道是不是新出的顏色，Mono這一系列真的很美!!）國文、英文都寫不順，這次頂標可能是拿不到了，自然也是寫到懷疑人生 超想放棄.雖然大部分同學都覺得南一的題目比較難，有的人甚至自然跟上次差了快30分（我自己也是QQ），但還是有聽到一些同學覺得比前幾次都來的簡單.數學應該是有微幅的進步，比起上次的兵荒馬亂，這次看到題目總算是會有想法 不至於一片空白了.有三四題其實我根本可以寫的出來，但算到一半就開始懷疑自己的算法，好幾題都差臨門一腳，在快要得到分數的時候放棄了.真心覺得有點可惜，但也讓我意識到自己在考試上的一些壞習慣與缺失.最重要的是，這終究還是模擬考，別讓自己被這次的挫折給打敗，把成績放在一邊，繼續為學測努力吧！-來路無可眷戀 值得期待的只有遠方✨#學測 #學測',\n",
       "  '發文時間': '發佈於 2022-12-09 00:09',\n",
       "  '評論': ['現在的成績都比不上學測的成績啦～不用太在意！我們很努力就很棒了剩下30多天努力就對了',\n",
       "   '加油，你們考完學測就換我們考統測了',\n",
       "   '加油加油',\n",
       "   '我也覺得自然超級難']},\n",
       " {'文章標題': '一組iPhone景深風景壁紙',\n",
       "  '文章內容': '一組一共4張iPhone的風景壁紙iOS16的景深效果使得壁紙看起來很有層次感#手機壁紙 #壁紙 #每日壁紙 #高級感 #iOS16 #iphone #apple #山峰 #自然',\n",
       "  '發文時間': '發佈於 2022-11-23 19:18',\n",
       "  '評論': ['求全圖', '三連求圖', '求圖一跟圖四', '三連求圖', '已三連，求圖']}]"
      ]
     },
     "execution_count": 147,
     "metadata": {},
     "output_type": "execute_result"
    }
   ],
   "source": [
    "results"
   ]
  }
 ],
 "metadata": {
  "kernelspec": {
   "display_name": "Python 3.10.7 64-bit",
   "language": "python",
   "name": "python3"
  },
  "language_info": {
   "codemirror_mode": {
    "name": "ipython",
    "version": 3
   },
   "file_extension": ".py",
   "mimetype": "text/x-python",
   "name": "python",
   "nbconvert_exporter": "python",
   "pygments_lexer": "ipython3",
   "version": "3.10.7 (tags/v3.10.7:6cc6b13, Sep  5 2022, 14:08:36) [MSC v.1933 64 bit (AMD64)]"
  },
  "orig_nbformat": 4,
  "vscode": {
   "interpreter": {
    "hash": "26de051ba29f2982a8de78e945f0abaf191376122a1563185a90213a26c5da77"
   }
  }
 },
 "nbformat": 4,
 "nbformat_minor": 2
}
